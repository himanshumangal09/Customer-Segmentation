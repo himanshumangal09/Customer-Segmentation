{
 "cells": [
  {
   "cell_type": "markdown",
   "metadata": {},
   "source": [
    "# Capstone Project: Create a Customer Segmentation Report for Arvato Financial Services\n",
    "\n",
    "In this project, I  have analyzed demographics data for customers of a mail-order sales company in Germany, comparing it against demographics information for the general population. I  have used unsupervised learning techniques to perform customer segmentation, identifying the parts of the population that best describe the core customer base of the company. Then,i  use a model to predict which individuals are most likely to convert into becoming customers for the company. The data has been provided by our partners at Bertelsmann Arvato Analytics, and represents a real-life data science task."
   ]
  },
  {
   "cell_type": "code",
   "execution_count": 1,
   "metadata": {},
   "outputs": [],
   "source": [
    "# import libraries here; add more as necessary\n",
    "import numpy as np\n",
    "import time\n",
    "import pandas as pd\n",
    "import matplotlib.pyplot as plt\n",
    "import seaborn as sns\n",
    "from sklearn.preprocessing import Imputer\n",
    "from sklearn.cluster import KMeans\n",
    "from sklearn.preprocessing import StandardScaler\n",
    "from sklearn.decomposition import PCA \n",
    "# magic word for producing visualizations in notebook\n",
    "%matplotlib inline"
   ]
  },
  {
   "cell_type": "markdown",
   "metadata": {},
   "source": [
    "## Part 0: Get to Know the Data\n",
    "\n",
    "There are four data files associated with this project:\n",
    "\n",
    "- `Udacity_AZDIAS_052018.csv`: Demographics data for the general population of Germany; 891 211 persons (rows) x 366 features (columns).\n",
    "- `Udacity_CUSTOMERS_052018.csv`: Demographics data for customers of a mail-order company; 191 652 persons (rows) x 369 features (columns).\n",
    "- `Udacity_MAILOUT_052018_TRAIN.csv`: Demographics data for individuals who were targets of a marketing campaign; 42 982 persons (rows) x 367 (columns).\n",
    "- `Udacity_MAILOUT_052018_TEST.csv`: Demographics data for individuals who were targets of a marketing campaign; 42 833 persons (rows) x 366 (columns).\n",
    "\n",
    "Each row of the demographics files represents a single person, but also includes information outside of individuals, including information about their household, building, and neighborhood."
   ]
  },
  {
   "cell_type": "code",
   "execution_count": null,
   "metadata": {},
   "outputs": [],
   "source": [
    "# load in the data\n",
    "azdias = pd.read_csv('../../data/Term2/capstone/arvato_data/Udacity_AZDIAS_052018.csv', sep=';')\n",
    "customers = pd.read_csv('../../data/Term2/capstone/arvato_data/Udacity_CUSTOMERS_052018.csv', sep=';')"
   ]
  },
  {
   "cell_type": "code",
   "execution_count": null,
   "metadata": {},
   "outputs": [],
   "source": [
    "feat_info = pd.read_excel('DIAS Attributes - Values 2017.xlsx')\n",
    "del feat_info['Unnamed: 0']"
   ]
  },
  {
   "cell_type": "code",
   "execution_count": null,
   "metadata": {},
   "outputs": [],
   "source": [
    "feat_info.ffill(inplace=True)"
   ]
  },
  {
   "cell_type": "code",
   "execution_count": null,
   "metadata": {},
   "outputs": [],
   "source": [
    "feat_info"
   ]
  },
  {
   "cell_type": "code",
   "execution_count": null,
   "metadata": {},
   "outputs": [],
   "source": [
    "feat_list = feat_info['Attribute'].unique()"
   ]
  },
  {
   "cell_type": "code",
   "execution_count": null,
   "metadata": {},
   "outputs": [],
   "source": [
    "# should be an empty array\n",
    "diff_not_in_feat = list(set(feat_list) - set(azdias))\n",
    "print('Features in feat_list that are not in azdias:')\n",
    "print(len(diff_not_in_feat))\n",
    "print(diff_not_in_feat)\n",
    "print('-------------')\n",
    "\n",
    "# features that are not in feat_info (no information regarding type)\n",
    "diff_not_in_azdias = list(set(azdias) - set(feat_list))\n",
    "print('Features in azdias that are not in feat_list:')\n",
    "print(len(diff_not_in_azdias))\n",
    "print(diff_not_in_azdias)"
   ]
  },
  {
   "cell_type": "code",
   "execution_count": null,
   "metadata": {},
   "outputs": [],
   "source": [
    "len(drop_columns)"
   ]
  },
  {
   "cell_type": "markdown",
   "metadata": {},
   "source": [
    "Dropping some Features in azdias that are not in feat_list because So what will i do with the features which does not provide any details so i am just removing them"
   ]
  },
  {
   "cell_type": "code",
   "execution_count": null,
   "metadata": {},
   "outputs": [],
   "source": [
    "azdias.drop(['D19_KINDERARTIKEL', 'D19_LEBENSMITTEL', 'D19_NAHRUNGSERGAENZUNG', 'D19_BUCH_CD', 'CJT_KATALOGNUTZER', 'KONSUMZELLE', 'CJT_TYP_6', 'D19_LOTTO', 'D19_VERSI_OFFLINE_DATUM', 'D19_WEIN_FEINKOST', 'D19_VERSAND_REST', 'ALTER_KIND3', 'KK_KUNDENTYP', 'D19_GARTEN', 'D19_FREIZEIT', 'D19_TECHNIK', 'D19_BANKEN_LOKAL', 'D19_TIERARTIKEL', 'D19_VERSI_ONLINE_DATUM', 'D19_BEKLEIDUNG_GEH', 'D19_SAMMELARTIKEL', 'CJT_TYP_1', 'D19_VERSI_ONLINE_QUOTE_12', 'ARBEIT', 'KBA13_ANTG2', 'ANZ_KINDER', 'D19_TELKO_REST', 'ALTER_KIND4', 'D19_TELKO_ONLINE_QUOTE_12', 'HH_DELTA_FLAG', 'KBA13_KMH_210', 'D19_RATGEBER', 'CJT_TYP_3', 'D19_VERSI_DATUM', 'UNGLEICHENN_FLAG', 'VERDICHTUNGSRAUM', 'STRUKTURTYP', 'LNR', 'VK_DHT4A', 'D19_HAUS_DEKO', 'D19_DIGIT_SERV', 'D19_VOLLSORTIMENT', 'D19_DROGERIEARTIKEL', 'EINGEFUEGT_AM', 'RT_SCHNAEPPCHEN', 'ALTER_KIND2', 'D19_KONSUMTYP_MAX', 'GEMEINDETYP', 'KBA13_ANTG4', 'D19_SOZIALES', 'D19_BANKEN_GROSS', 'D19_HANDWERK', 'KOMBIALTER', 'KBA13_ANTG3', 'D19_BILDUNG', 'KBA13_ANTG1', 'AKT_DAT_KL', 'D19_VERSICHERUNGEN', 'KBA13_CCM_1401_2500', 'VHN', 'KBA13_GBZ', 'MOBI_RASTER', 'D19_BANKEN_REST', 'VK_DISTANZ', 'VHA', 'KBA13_HHZ', 'CJT_TYP_2', 'D19_TELKO_MOBILE', 'D19_ENERGIE', 'D19_SONSTIGE', 'EINGEZOGENAM_HH_JAHR', 'D19_REISEN', 'D19_BANKEN_DIREKT', 'CJT_TYP_5', 'VK_ZG11', 'ALTERSKATEGORIE_FEIN', 'UMFELD_ALT', 'CAMEO_INTL_2015', 'ALTER_KIND1', 'SOHO_KZ', 'D19_BIO_OEKO', 'D19_KOSMETIK', 'D19_BEKLEIDUNG_REST', 'RT_KEIN_ANREIZ', 'D19_SCHUHE', 'RT_UEBERGROESSE', 'FIRMENDICHTE', 'ANZ_STATISTISCHE_HAUSHALTE', 'UMFELD_JUNG', 'EXTSEL992', 'DSL_FLAG', 'CJT_TYP_4', 'D19_LETZTER_KAUF_BRANCHE', 'KBA13_BAUMAX'],axis=1,inplace=True)"
   ]
  },
  {
   "cell_type": "code",
   "execution_count": null,
   "metadata": {},
   "outputs": [],
   "source": [
    "customers.drop(['D19_KINDERARTIKEL', 'D19_LEBENSMITTEL', 'D19_NAHRUNGSERGAENZUNG', 'D19_BUCH_CD', 'CJT_KATALOGNUTZER', 'KONSUMZELLE', 'CJT_TYP_6', 'D19_LOTTO', 'D19_VERSI_OFFLINE_DATUM', 'D19_WEIN_FEINKOST', 'D19_VERSAND_REST', 'ALTER_KIND3', 'KK_KUNDENTYP', 'D19_GARTEN', 'D19_FREIZEIT', 'D19_TECHNIK', 'D19_BANKEN_LOKAL', 'D19_TIERARTIKEL', 'D19_VERSI_ONLINE_DATUM', 'D19_BEKLEIDUNG_GEH', 'D19_SAMMELARTIKEL', 'CJT_TYP_1', 'D19_VERSI_ONLINE_QUOTE_12', 'ARBEIT', 'KBA13_ANTG2', 'ANZ_KINDER', 'D19_TELKO_REST', 'ALTER_KIND4', 'D19_TELKO_ONLINE_QUOTE_12', 'HH_DELTA_FLAG', 'KBA13_KMH_210', 'D19_RATGEBER', 'CJT_TYP_3', 'D19_VERSI_DATUM', 'UNGLEICHENN_FLAG', 'VERDICHTUNGSRAUM', 'STRUKTURTYP', 'LNR', 'VK_DHT4A', 'D19_HAUS_DEKO', 'D19_DIGIT_SERV', 'D19_VOLLSORTIMENT', 'D19_DROGERIEARTIKEL', 'EINGEFUEGT_AM', 'RT_SCHNAEPPCHEN', 'ALTER_KIND2', 'D19_KONSUMTYP_MAX', 'GEMEINDETYP', 'KBA13_ANTG4', 'D19_SOZIALES', 'D19_BANKEN_GROSS', 'D19_HANDWERK', 'KOMBIALTER', 'KBA13_ANTG3', 'D19_BILDUNG', 'KBA13_ANTG1', 'AKT_DAT_KL', 'D19_VERSICHERUNGEN', 'KBA13_CCM_1401_2500', 'VHN', 'KBA13_GBZ', 'MOBI_RASTER', 'D19_BANKEN_REST', 'VK_DISTANZ', 'VHA', 'KBA13_HHZ', 'CJT_TYP_2', 'D19_TELKO_MOBILE', 'D19_ENERGIE', 'D19_SONSTIGE', 'EINGEZOGENAM_HH_JAHR', 'D19_REISEN', 'D19_BANKEN_DIREKT', 'CJT_TYP_5', 'VK_ZG11', 'ALTERSKATEGORIE_FEIN', 'UMFELD_ALT', 'CAMEO_INTL_2015', 'ALTER_KIND1', 'SOHO_KZ', 'D19_BIO_OEKO', 'D19_KOSMETIK', 'D19_BEKLEIDUNG_REST', 'RT_KEIN_ANREIZ', 'D19_SCHUHE', 'RT_UEBERGROESSE', 'FIRMENDICHTE', 'ANZ_STATISTISCHE_HAUSHALTE', 'UMFELD_JUNG', 'EXTSEL992', 'DSL_FLAG', 'CJT_TYP_4', 'D19_LETZTER_KAUF_BRANCHE', 'KBA13_BAUMAX'],axis=1,inplace=True)"
   ]
  },
  {
   "cell_type": "code",
   "execution_count": null,
   "metadata": {},
   "outputs": [],
   "source": [
    "customers.drop(['PRODUCT_GROUP', 'ONLINE_PURCHASE', 'CUSTOMER_GROUP'],axis=1,inplace=True)"
   ]
  },
  {
   "cell_type": "code",
   "execution_count": null,
   "metadata": {},
   "outputs": [],
   "source": [
    "#looking for nans\n",
    "column_nans = azdias.isnull().mean()\n",
    "plt.hist(column_nans, bins = np.arange(0,1+.05,.05))\n",
    "plt.ylabel('# of features')\n",
    "plt.xlabel('prop. of missing values')"
   ]
  },
  {
   "cell_type": "code",
   "execution_count": null,
   "metadata": {},
   "outputs": [],
   "source": [
    "unknowns = []\n",
    "for attribute in feat_info['Attribute'].unique():\n",
    "    _ = feat_info.loc[feat_info['Attribute'] == attribute, 'Value'].astype(str).str.cat(sep=',')\n",
    "    _ = _.split(',')\n",
    "    unknowns.append(_)\n",
    "    \n",
    "unknowns = pd.concat([pd.Series(feat_info['Attribute'].unique()), pd.Series(unknowns)], axis=1)\n",
    "unknowns.columns = ['attribute', 'missing_or_unknown']\n",
    "print(unknowns)"
   ]
  },
  {
   "cell_type": "code",
   "execution_count": null,
   "metadata": {},
   "outputs": [],
   "source": [
    "start = time.time()\n",
    "    \n",
    "for row in unknowns['attribute']:\n",
    "    print(row)\n",
    "    if row in azdias.columns:\n",
    "        na_map = unknowns.loc[unknowns['attribute'] == row, 'missing_or_unknown'].iloc[0]\n",
    "        na_idx = azdias.loc[:, row].isin(na_map)\n",
    "        azdias.loc[na_idx, row] = np.NaN\n",
    "    else:\n",
    "        continue\n",
    "\n",
    "end = time.time()\n",
    "elapsed = end - start\n",
    "elapsed"
   ]
  },
  {
   "cell_type": "code",
   "execution_count": null,
   "metadata": {},
   "outputs": [],
   "source": [
    "column_nans = azdias.isnull().mean()\n",
    "plt.hist(column_nans, bins = np.arange(0,1+.05,.05))\n",
    "plt.ylabel('# of features')\n",
    "plt.xlabel('prop. of missing values')"
   ]
  },
  {
   "cell_type": "code",
   "execution_count": null,
   "metadata": {},
   "outputs": [],
   "source": [
    "col_drops = column_nans[columns_nans>0.2].index"
   ]
  },
  {
   "cell_type": "code",
   "execution_count": null,
   "metadata": {},
   "outputs": [],
   "source": [
    "col_drops"
   ]
  },
  {
   "cell_type": "code",
   "execution_count": null,
   "metadata": {},
   "outputs": [],
   "source": [
    "col_drops = ['AGER_TYP', 'ALTER_HH', 'D19_BANKEN_ANZ_12', 'D19_BANKEN_ANZ_24',\n",
    "             'D19_BANKEN_ONLINE_QUOTE_12', 'D19_GESAMT_ANZ_12', 'D19_GESAMT_ANZ_24',\n",
    "             'D19_GESAMT_ONLINE_QUOTE_12', 'D19_KONSUMTYP', 'D19_TELKO_ANZ_12',\n",
    "             'D19_TELKO_ANZ_24', 'D19_VERSAND_ANZ_12', 'D19_VERSAND_ANZ_24',\n",
    "             'D19_VERSAND_ONLINE_QUOTE_12', 'D19_VERSI_ANZ_12', 'D19_VERSI_ANZ_24',\n",
    "             'GREEN_AVANTGARDE', 'KBA05_AUTOQUOT', 'KBA05_BAUMAX', 'KONSUMNAEHE',\n",
    "             'LP_FAMILIE_FEIN', 'LP_FAMILIE_GROB', 'LP_STATUS_FEIN',\n",
    "             'LP_STATUS_GROB', 'MOBI_REGIO', 'PLZ8_BAUMAX', 'RELAT_AB', 'TITEL_KZ']"
   ]
  },
  {
   "cell_type": "code",
   "execution_count": null,
   "metadata": {},
   "outputs": [],
   "source": [
    "azdias.drop(col_drops,axis=1,inplace=True)"
   ]
  },
  {
   "cell_type": "markdown",
   "metadata": {},
   "source": [
    "Correlation Coefficient = 0.8: A fairly strong positive relationship.\n",
    "\n",
    "Correlation Coefficient = 0.6: A moderate positive relationship\n",
    "\n",
    "So, i have choosen a value of 0.7"
   ]
  },
  {
   "cell_type": "code",
   "execution_count": null,
   "metadata": {},
   "outputs": [],
   "source": [
    "# find correlation matrix    \n",
    "corr_matrix = azdias.corr().abs()\n",
    "upper_limit = corr_matrix.where(np.triu(np.ones(corr_matrix.shape), k=1).astype(np.bool))\n",
    "# identify columns to drop based on threshold limit\n",
    "drop_columns = [column for column in upper_limit.columns if any(upper_limit[column] > .7)]"
   ]
  },
  {
   "cell_type": "code",
   "execution_count": null,
   "metadata": {},
   "outputs": [],
   "source": [
    "drop_columns = ['D19_BANKEN_ONLINE_DATUM', 'D19_GESAMT_ONLINE_DATUM', 'D19_VERSAND_DATUM', 'D19_VERSAND_OFFLINE_DATUM', 'D19_VERSAND_ONLINE_DATUM',\n",
    " 'FINANZ_SPARER', 'FINANZ_UNAUFFAELLIGER', 'FINANZ_VORSORGER', 'INNENSTADT', 'KBA05_KRSHERST1', 'KBA05_KRSHERST2', 'KBA05_KRSHERST3', 'KBA05_KW2',\n",
    " 'KBA05_SEG2', 'KBA05_SEG5', 'KBA05_SEG9', 'KBA05_ZUL4', 'KBA13_BJ_2000', 'KBA13_BJ_2006', 'KBA13_HALTER_25', 'KBA13_HALTER_30', 'KBA13_HALTER_35', 'KBA13_HALTER_40', 'KBA13_HALTER_50', 'KBA13_HALTER_55', 'KBA13_HALTER_66', 'KBA13_HERST_BMW_BENZ',\n",
    " 'KBA13_HERST_SONST', 'KBA13_KMH_140', 'KBA13_KMH_211', 'KBA13_KMH_250', 'KBA13_KRSHERST_FORD_OPEL', 'KBA13_KW_30', 'KBA13_KW_61_120', 'KBA13_MERCEDES', 'KBA13_OPEL', 'KBA13_SEG_KLEINWAGEN',\n",
    " 'KBA13_SEG_MINIVANS', 'KBA13_SEG_VAN', 'KBA13_SITZE_5', 'KBA13_VORB_1', 'KBA13_VORB_2', 'KBA13_VW', 'LP_LEBENSPHASE_FEIN',\n",
    " 'LP_LEBENSPHASE_GROB', 'ONLINE_AFFINITAET', 'ORTSGR_KLS9', 'PLZ8_ANTG3', 'PLZ8_ANTG4', 'PLZ8_GBZ', 'PLZ8_HHZ', 'PRAEGENDE_JUGENDJAHRE',\n",
    " 'REGIOTYP', 'SEMIO_KAEM', 'SEMIO_VERT', 'ANREDE_KZ', 'ALTERSKATEGORIE_GROB']"
   ]
  },
  {
   "cell_type": "code",
   "execution_count": null,
   "metadata": {},
   "outputs": [],
   "source": [
    "azdias.drop(drop_columns,axis=1,inplace=True)"
   ]
  },
  {
   "cell_type": "code",
   "execution_count": null,
   "metadata": {},
   "outputs": [],
   "source": [
    "azdias.shape"
   ]
  },
  {
   "cell_type": "code",
   "execution_count": null,
   "metadata": {},
   "outputs": [],
   "source": [
    "rows_nans = azdias.isnull().mean(axis=1)\n",
    "plt.hist(rows_nans, bins = np.arange(0,1+.05,.05))\n",
    "plt.ylabel('# of features')\n",
    "plt.xlabel('prop. of missing values')"
   ]
  },
  {
   "cell_type": "code",
   "execution_count": null,
   "metadata": {},
   "outputs": [],
   "source": [
    "azdias.shape"
   ]
  },
  {
   "cell_type": "code",
   "execution_count": null,
   "metadata": {},
   "outputs": [],
   "source": [
    "azdias=azdias.fillna(azdias.mode().iloc[0])"
   ]
  },
  {
   "cell_type": "code",
   "execution_count": null,
   "metadata": {},
   "outputs": [],
   "source": [
    "azdias[azdias.duplicated()]"
   ]
  },
  {
   "cell_type": "code",
   "execution_count": null,
   "metadata": {},
   "outputs": [],
   "source": [
    "azdias.drop_duplicates(inplace=True)"
   ]
  },
  {
   "cell_type": "code",
   "execution_count": null,
   "metadata": {},
   "outputs": [],
   "source": [
    "azdias.shape"
   ]
  },
  {
   "cell_type": "code",
   "execution_count": null,
   "metadata": {},
   "outputs": [],
   "source": [
    "#looking for nans\n",
    "column_nans = azdias.isnull().mean()\n",
    "plt.hist(column_nans, bins = np.arange(0,1+.05,.05))\n",
    "plt.ylabel('# of features')\n",
    "plt.xlabel('prop. of missing values')"
   ]
  },
  {
   "cell_type": "code",
   "execution_count": null,
   "metadata": {},
   "outputs": [],
   "source": [
    "#looking for nans\n",
    "rows_nans = azdias.isnull().mean(axis=1)\n",
    "plt.hist(rows_nans)\n",
    "plt.ylabel('# of features')\n",
    "plt.xlabel('prop. of missing values')"
   ]
  },
  {
   "cell_type": "code",
   "execution_count": null,
   "metadata": {},
   "outputs": [],
   "source": [
    "drop_col = column_nans[column_nans>0.2].index"
   ]
  },
  {
   "cell_type": "code",
   "execution_count": null,
   "metadata": {},
   "outputs": [],
   "source": [
    "drop_col"
   ]
  },
  {
   "cell_type": "code",
   "execution_count": null,
   "metadata": {},
   "outputs": [],
   "source": [
    "azdias.drop(drop_col,axis=1,inplace=True)"
   ]
  },
  {
   "cell_type": "code",
   "execution_count": null,
   "metadata": {},
   "outputs": [],
   "source": [
    "azdias.shape"
   ]
  },
  {
   "cell_type": "code",
   "execution_count": null,
   "metadata": {},
   "outputs": [],
   "source": [
    "# finding numeric and categorical columns\n",
    "Numeric_columns=azdias.select_dtypes(include=np.number).columns.tolist()\n",
    "categorical_col=set(azdias.columns).difference(set(Numeric_columns))\n",
    "# numeric cols to numeric\n",
    "print(categorical_col)"
   ]
  },
  {
   "cell_type": "code",
   "execution_count": null,
   "metadata": {},
   "outputs": [],
   "source": [
    "azdias['CAMEO_DEU_2015'].unique()"
   ]
  },
  {
   "cell_type": "code",
   "execution_count": null,
   "metadata": {},
   "outputs": [],
   "source": [
    "azdias['CAMEO_DEU_2015'].value_counts()"
   ]
  },
  {
   "cell_type": "code",
   "execution_count": null,
   "metadata": {},
   "outputs": [],
   "source": [
    "azdias.drop('CAMEO_DEU_2015',inplace=True,axis=1)"
   ]
  },
  {
   "cell_type": "code",
   "execution_count": null,
   "metadata": {},
   "outputs": [],
   "source": [
    "azdias['CAMEO_DEUG_2015'].unique()"
   ]
  },
  {
   "cell_type": "code",
   "execution_count": null,
   "metadata": {},
   "outputs": [],
   "source": [
    "azdias['CAMEO_DEUG_2015'].value_counts()"
   ]
  },
  {
   "cell_type": "code",
   "execution_count": null,
   "metadata": {},
   "outputs": [],
   "source": [
    "azdias[['CAMEO_DEUG_2015']] = azdias[['CAMEO_DEUG_2015']].replace(['X'],np.NaN)    "
   ]
  },
  {
   "cell_type": "code",
   "execution_count": null,
   "metadata": {},
   "outputs": [],
   "source": [
    "azdias[['CAMEO_DEUG_2015']] = azdias[['CAMEO_DEUG_2015']].replace(['XX','X'],np.NaN)    "
   ]
  },
  {
   "cell_type": "code",
   "execution_count": null,
   "metadata": {},
   "outputs": [],
   "source": [
    "azdias['CAMEO_DEUG_2015'].value_counts()"
   ]
  },
  {
   "cell_type": "code",
   "execution_count": null,
   "metadata": {},
   "outputs": [],
   "source": [
    "azdias=pd.get_dummies(azdias)"
   ]
  },
  {
   "cell_type": "code",
   "execution_count": null,
   "metadata": {},
   "outputs": [],
   "source": [
    "azdias.shape"
   ]
  },
  {
   "cell_type": "code",
   "execution_count": null,
   "metadata": {},
   "outputs": [],
   "source": [
    "Numeric_columns=azdias.select_dtypes(include=np.number).columns.tolist()\n",
    "categorical_col=set(azdias.columns).difference(set(Numeric_columns))\n",
    "#numeric cols to numeric\n",
    "print(categorical_col)"
   ]
  },
  {
   "cell_type": "markdown",
   "metadata": {},
   "source": [
    "## Checkpoint"
   ]
  },
  {
   "cell_type": "code",
   "execution_count": 3,
   "metadata": {},
   "outputs": [],
   "source": [
    "# import libraries\n",
    "import numpy as np\n",
    "import time\n",
    "import pandas as pd\n",
    "import matplotlib.pyplot as plt\n",
    "import seaborn as sns\n",
    "from sklearn.preprocessing import Imputer\n",
    "from sklearn.cluster import KMeans\n",
    "from sklearn.preprocessing import StandardScaler\n",
    "from sklearn.decomposition import PCA \n",
    "# magic word for producing visualizations in notebook\n",
    "%matplotlib inline\n",
    "# load in the data\n",
    "azdias = pd.read_csv('../../data/Term2/capstone/arvato_data/Udacity_AZDIAS_052018.csv', sep=';')"
   ]
  },
  {
   "cell_type": "code",
   "execution_count": 2,
   "metadata": {},
   "outputs": [
    {
     "name": "stderr",
     "output_type": "stream",
     "text": [
      "/opt/conda/lib/python3.6/site-packages/IPython/core/interactiveshell.py:2785: DtypeWarning: Columns (18,19) have mixed types. Specify dtype option on import or set low_memory=False.\n",
      "  interactivity=interactivity, compiler=compiler, result=result)\n"
     ]
    }
   ],
   "source": [
    "customers = pd.read_csv('../../data/Term2/capstone/arvato_data/Udacity_CUSTOMERS_052018.csv', sep=';')"
   ]
  },
  {
   "cell_type": "code",
   "execution_count": 3,
   "metadata": {},
   "outputs": [
    {
     "data": {
      "text/plain": [
       "(891221, 366)"
      ]
     },
     "execution_count": 3,
     "metadata": {},
     "output_type": "execute_result"
    }
   ],
   "source": [
    "azdias.shape"
   ]
  },
  {
   "cell_type": "code",
   "execution_count": 4,
   "metadata": {},
   "outputs": [
    {
     "name": "stdout",
     "output_type": "stream",
     "text": [
      "{'OST_WEST_KZ'}\n",
      "set()\n"
     ]
    }
   ],
   "source": [
    "drop_columns = ['D19_KINDERARTIKEL', 'D19_LEBENSMITTEL', 'D19_NAHRUNGSERGAENZUNG', \n",
    "                'D19_BUCH_CD', 'CJT_KATALOGNUTZER', 'KONSUMZELLE', 'CJT_TYP_6', \n",
    "                'D19_LOTTO', 'D19_VERSI_OFFLINE_DATUM', 'D19_WEIN_FEINKOST', 'D19_VERSAND_REST', \n",
    "                'ALTER_KIND3', 'KK_KUNDENTYP', 'D19_GARTEN', 'D19_FREIZEIT', 'D19_TECHNIK', \n",
    "                'D19_BANKEN_LOKAL', 'D19_TIERARTIKEL', 'D19_VERSI_ONLINE_DATUM', 'D19_BEKLEIDUNG_GEH',\n",
    "                'D19_SAMMELARTIKEL', 'CJT_TYP_1', 'D19_VERSI_ONLINE_QUOTE_12', 'ARBEIT', 'KBA13_ANTG2', \n",
    "                'ANZ_KINDER', 'D19_TELKO_REST', 'ALTER_KIND4', 'D19_TELKO_ONLINE_QUOTE_12', 'HH_DELTA_FLAG', \n",
    "                'KBA13_KMH_210', 'D19_RATGEBER', 'CJT_TYP_3', 'D19_VERSI_DATUM', 'UNGLEICHENN_FLAG', \n",
    "                'VERDICHTUNGSRAUM', 'STRUKTURTYP', 'LNR', 'VK_DHT4A', 'D19_HAUS_DEKO', 'D19_DIGIT_SERV', \n",
    "                'D19_VOLLSORTIMENT', 'D19_DROGERIEARTIKEL', 'EINGEFUEGT_AM', 'RT_SCHNAEPPCHEN', 'ALTER_KIND2',\n",
    "                'D19_KONSUMTYP_MAX', 'GEMEINDETYP', 'KBA13_ANTG4', 'D19_SOZIALES', 'D19_BANKEN_GROSS', \n",
    "                'D19_HANDWERK', 'KOMBIALTER', 'KBA13_ANTG3', 'D19_BILDUNG', 'KBA13_ANTG1', 'AKT_DAT_KL', \n",
    "                'D19_VERSICHERUNGEN', 'KBA13_CCM_1401_2500', 'VHN', 'KBA13_GBZ', 'MOBI_RASTER',\n",
    "                'D19_BANKEN_REST', 'VK_DISTANZ', 'VHA', 'KBA13_HHZ', 'CJT_TYP_2', 'D19_TELKO_MOBILE', \n",
    "                'D19_ENERGIE', 'D19_SONSTIGE', 'EINGEZOGENAM_HH_JAHR', 'D19_REISEN', 'D19_BANKEN_DIREKT',\n",
    "                'CJT_TYP_5', 'VK_ZG11', 'ALTERSKATEGORIE_FEIN', 'UMFELD_ALT', 'CAMEO_INTL_2015', 'ALTER_KIND1',\n",
    "                'SOHO_KZ', 'D19_BIO_OEKO', 'D19_KOSMETIK', 'D19_BEKLEIDUNG_REST', 'RT_KEIN_ANREIZ', 'D19_SCHUHE',\n",
    "                'RT_UEBERGROESSE', 'FIRMENDICHTE', 'ANZ_STATISTISCHE_HAUSHALTE', 'UMFELD_JUNG', 'EXTSEL992',\n",
    "                'DSL_FLAG', 'CJT_TYP_4', 'D19_LETZTER_KAUF_BRANCHE', 'KBA13_BAUMAX',             \n",
    "                'AGER_TYP', 'ALTER_HH', 'D19_BANKEN_ANZ_12', 'D19_BANKEN_ANZ_24','D19_BANKEN_ONLINE_QUOTE_12',\n",
    "                'D19_GESAMT_ANZ_12', 'D19_GESAMT_ANZ_24','D19_GESAMT_ONLINE_QUOTE_12', 'D19_KONSUMTYP', \n",
    "                'D19_TELKO_ANZ_12','D19_TELKO_ANZ_24', 'D19_VERSAND_ANZ_12', 'D19_VERSAND_ANZ_24',\n",
    "                'D19_VERSAND_ONLINE_QUOTE_12', 'D19_VERSI_ANZ_12','D19_VERSI_ANZ_24','GREEN_AVANTGARDE', \n",
    "                'KBA05_AUTOQUOT', 'KBA05_BAUMAX', 'KONSUMNAEHE','LP_FAMILIE_FEIN', 'LP_FAMILIE_GROB', \n",
    "                'LP_STATUS_FEIN','LP_STATUS_GROB', 'MOBI_REGIO', 'PLZ8_BAUMAX', 'RELAT_AB', 'TITEL_KZ',\n",
    "                'D19_BANKEN_ONLINE_DATUM', 'D19_GESAMT_ONLINE_DATUM', 'D19_VERSAND_DATUM', 'D19_VERSAND_OFFLINE_DATUM', \n",
    "                'D19_VERSAND_ONLINE_DATUM', 'FINANZ_SPARER',\n",
    "                'FINANZ_UNAUFFAELLIGER', 'FINANZ_VORSORGER', 'INNENSTADT', 'KBA05_KRSHERST1', 'KBA05_KRSHERST2', \n",
    "                'KBA05_KRSHERST3', 'KBA05_KW2', 'KBA05_SEG2', 'KBA05_SEG5', 'KBA05_SEG9', 'KBA05_ZUL4',\n",
    "                'KBA13_BJ_2000', 'KBA13_BJ_2006', 'KBA13_HALTER_25', 'KBA13_HALTER_30', 'KBA13_HALTER_35', \n",
    "                'KBA13_HALTER_40', 'KBA13_HALTER_50', 'KBA13_HALTER_55', 'KBA13_HALTER_66', 'KBA13_HERST_BMW_BENZ',\n",
    "                'KBA13_HERST_SONST', 'KBA13_KMH_140', 'KBA13_KMH_211', 'KBA13_KMH_250', 'KBA13_KRSHERST_FORD_OPEL', \n",
    "                'KBA13_KW_30', 'KBA13_KW_61_120', 'KBA13_MERCEDES', 'KBA13_OPEL', 'KBA13_SEG_KLEINWAGEN',\n",
    "                'KBA13_SEG_MINIVANS', 'KBA13_SEG_VAN', 'KBA13_SITZE_5', 'KBA13_VORB_1', 'KBA13_VORB_2', \n",
    "                'KBA13_VW', 'LP_LEBENSPHASE_FEIN', 'LP_LEBENSPHASE_GROB', 'ONLINE_AFFINITAET', 'ORTSGR_KLS9',\n",
    "                'PLZ8_ANTG3', 'PLZ8_ANTG4', 'PLZ8_GBZ', 'PLZ8_HHZ', 'PRAEGENDE_JUGENDJAHRE','REGIOTYP',\n",
    "                'SEMIO_KAEM', 'SEMIO_VERT', 'ANREDE_KZ', 'ALTERSKATEGORIE_GROB','BALLRAUM', \n",
    "                'CJT_GESAMTTYP', 'D19_BANKEN_DATUM','D19_BANKEN_OFFLINE_DATUM','CAMEO_DEU_2015']\n",
    "\n",
    "azdias.drop(drop_columns,inplace=True,axis=1)\n",
    "#looking for nans\n",
    "rows_nans = azdias.isnull().mean(axis=1);\n",
    "drop_rows = rows_nans[rows_nans>=0.2].index\n",
    "azdias.drop(drop_rows,axis=0,inplace=True)\n",
    "azdias[['CAMEO_DEUG_2015']] = azdias[['CAMEO_DEUG_2015']].replace(['XX','X'],np.NaN)    \n",
    "azdias['CAMEO_DEUG_2015']=azdias['CAMEO_DEUG_2015'].apply(pd.to_numeric)\n",
    "# finding numeric and categorical columns\n",
    "Numeric_columns=azdias.select_dtypes(include=np.number).columns.tolist()\n",
    "categorical_col=set(azdias.columns).difference(set(Numeric_columns))\n",
    "# numeric cols to numeric\n",
    "print(categorical_col)\n",
    "azdias[Numeric_columns]=azdias[Numeric_columns].apply(pd.to_numeric)\n",
    "azdias=azdias.fillna(azdias.mode().iloc[0])\n",
    "azdias=pd.get_dummies(azdias)\n",
    "# finding numeric and categorical columns\n",
    "Numeric_columns=azdias.select_dtypes(include=np.number).columns.tolist()\n",
    "categorical_col=set(azdias.columns).difference(set(Numeric_columns))\n",
    "# numeric cols to numeric\n",
    "print(categorical_col)"
   ]
  },
  {
   "cell_type": "code",
   "execution_count": 5,
   "metadata": {},
   "outputs": [
    {
     "data": {
      "text/plain": [
       "(751331, 183)"
      ]
     },
     "execution_count": 5,
     "metadata": {},
     "output_type": "execute_result"
    }
   ],
   "source": [
    "azdias.shape"
   ]
  },
  {
   "cell_type": "code",
   "execution_count": 6,
   "metadata": {},
   "outputs": [
    {
     "data": {
      "text/plain": [
       "Text(0.5,0,'prop. of missing values')"
      ]
     },
     "execution_count": 6,
     "metadata": {},
     "output_type": "execute_result"
    },
    {
     "data": {
      "image/png": "[encoded data removed]",
      "text/plain": [
       "<matplotlib.figure.Figure at 0x7f68c8642940>"
      ]
     },
     "metadata": {
      "needs_background": "light"
     },
     "output_type": "display_data"
    }
   ],
   "source": [
    "#looking for nans\n",
    "rows_nans = azdias.isnull().mean(axis=1)\n",
    "plt.hist(rows_nans)\n",
    "plt.ylabel('# of features')\n",
    "plt.xlabel('prop. of missing values')"
   ]
  },
  {
   "cell_type": "code",
   "execution_count": 7,
   "metadata": {},
   "outputs": [
    {
     "data": {
      "text/plain": [
       "Text(0.5,0,'prop. of missing values')"
      ]
     },
     "execution_count": 7,
     "metadata": {},
     "output_type": "execute_result"
    },
    {
     "data": {
      "image/png": "[encoded data removed]",
      "text/plain": [
       "<matplotlib.figure.Figure at 0x7f68c7298128>"
      ]
     },
     "metadata": {
      "needs_background": "light"
     },
     "output_type": "display_data"
    }
   ],
   "source": [
    "#looking for nans\n",
    "column_nans = azdias.isnull().mean()\n",
    "plt.hist(column_nans, bins = np.arange(0,1+.05,.05))\n",
    "plt.ylabel('# of features')\n",
    "plt.xlabel('prop. of missing values')"
   ]
  },
  {
   "cell_type": "code",
   "execution_count": 8,
   "metadata": {},
   "outputs": [],
   "source": [
    "azdias.to_csv('azdias.csv')"
   ]
  },
  {
   "cell_type": "code",
   "execution_count": 9,
   "metadata": {},
   "outputs": [
    {
     "name": "stdout",
     "output_type": "stream",
     "text": [
      "{'OST_WEST_KZ'}\n",
      "set()\n"
     ]
    }
   ],
   "source": [
    "drop_columns =['CAMEO_DEU_2015', 'CAMEO_DEUG_2015', 'CAMEO_INTL_2015', 'D19_LETZTER_KAUF_BRANCHE', 'EINGEFUEGT_AM','OST_WEST_KZ']\n",
    " ['D19_KINDERARTIKEL', 'D19_LEBENSMITTEL', 'D19_NAHRUNGSERGAENZUNG', \n",
    "                'D19_BUCH_CD', 'CJT_KATALOGNUTZER', 'KONSUMZELLE', 'CJT_TYP_6', \n",
    "                'D19_LOTTO', 'D19_VERSI_OFFLINE_DATUM', 'D19_WEIN_FEINKOST', 'D19_VERSAND_REST', \n",
    "                'ALTER_KIND3', 'KK_KUNDENTYP', 'D19_GARTEN', 'D19_FREIZEIT', 'D19_TECHNIK', \n",
    "                'D19_BANKEN_LOKAL', 'D19_TIERARTIKEL', 'D19_VERSI_ONLINE_DATUM', 'D19_BEKLEIDUNG_GEH',\n",
    "                'D19_SAMMELARTIKEL', 'CJT_TYP_1', 'D19_VERSI_ONLINE_QUOTE_12', 'ARBEIT', 'KBA13_ANTG2', \n",
    "                'ANZ_KINDER', 'D19_TELKO_REST', 'ALTER_KIND4', 'D19_TELKO_ONLINE_QUOTE_12', 'HH_DELTA_FLAG', \n",
    "                'KBA13_KMH_210', 'D19_RATGEBER', 'CJT_TYP_3', 'D19_VERSI_DATUM', 'UNGLEICHENN_FLAG', \n",
    "                'VERDICHTUNGSRAUM', 'STRUKTURTYP', 'LNR', 'VK_DHT4A', 'D19_HAUS_DEKO', 'D19_DIGIT_SERV', \n",
    "                'D19_VOLLSORTIMENT', 'D19_DROGERIEARTIKEL', 'EINGEFUEGT_AM', 'RT_SCHNAEPPCHEN', 'ALTER_KIND2',\n",
    "                'D19_KONSUMTYP_MAX', 'GEMEINDETYP', 'KBA13_ANTG4', 'D19_SOZIALES', 'D19_BANKEN_GROSS', \n",
    "                'D19_HANDWERK', 'KOMBIALTER', 'KBA13_ANTG3', 'D19_BILDUNG', 'KBA13_ANTG1', 'AKT_DAT_KL', \n",
    "                'D19_VERSICHERUNGEN', 'KBA13_CCM_1401_2500', 'VHN', 'KBA13_GBZ', 'MOBI_RASTER',\n",
    "                'D19_BANKEN_REST', 'VK_DISTANZ', 'VHA', 'KBA13_HHZ', 'CJT_TYP_2', 'D19_TELKO_MOBILE', \n",
    "                'D19_ENERGIE', 'D19_SONSTIGE', 'EINGEZOGENAM_HH_JAHR', 'D19_REISEN', 'D19_BANKEN_DIREKT',\n",
    "                'CJT_TYP_5', 'VK_ZG11', 'ALTERSKATEGORIE_FEIN', 'UMFELD_ALT', 'CAMEO_INTL_2015', 'ALTER_KIND1',\n",
    "                'SOHO_KZ', 'D19_BIO_OEKO', 'D19_KOSMETIK', 'D19_BEKLEIDUNG_REST', 'RT_KEIN_ANREIZ', 'D19_SCHUHE',\n",
    "                'RT_UEBERGROESSE', 'FIRMENDICHTE', 'ANZ_STATISTISCHE_HAUSHALTE', 'UMFELD_JUNG', 'EXTSEL992',\n",
    "                'DSL_FLAG', 'CJT_TYP_4', 'D19_LETZTER_KAUF_BRANCHE', 'KBA13_BAUMAX',             \n",
    "                'AGER_TYP', 'ALTER_HH', 'D19_BANKEN_ANZ_12', 'D19_BANKEN_ANZ_24','D19_BANKEN_ONLINE_QUOTE_12',\n",
    "                'D19_GESAMT_ANZ_12', 'D19_GESAMT_ANZ_24','D19_GESAMT_ONLINE_QUOTE_12', 'D19_KONSUMTYP', \n",
    "                'D19_TELKO_ANZ_12','D19_TELKO_ANZ_24', 'D19_VERSAND_ANZ_12', 'D19_VERSAND_ANZ_24',\n",
    "                'D19_VERSAND_ONLINE_QUOTE_12', 'D19_VERSI_ANZ_12','D19_VERSI_ANZ_24','GREEN_AVANTGARDE', \n",
    "                'KBA05_AUTOQUOT', 'KBA05_BAUMAX', 'KONSUMNAEHE','LP_FAMILIE_FEIN', 'LP_FAMILIE_GROB', \n",
    "                'LP_STATUS_FEIN','LP_STATUS_GROB', 'MOBI_REGIO', 'PLZ8_BAUMAX', 'RELAT_AB', 'TITEL_KZ',\n",
    "                'D19_BANKEN_ONLINE_DATUM', 'D19_GESAMT_ONLINE_DATUM', 'D19_VERSAND_DATUM', 'D19_VERSAND_OFFLINE_DATUM', \n",
    "                'D19_VERSAND_ONLINE_DATUM', 'FINANZ_SPARER',\n",
    "                'FINANZ_UNAUFFAELLIGER', 'FINANZ_VORSORGER', 'INNENSTADT', 'KBA05_KRSHERST1', 'KBA05_KRSHERST2', \n",
    "                'KBA05_KRSHERST3', 'KBA05_KW2', 'KBA05_SEG2', 'KBA05_SEG5', 'KBA05_SEG9', 'KBA05_ZUL4',\n",
    "                'KBA13_BJ_2000', 'KBA13_BJ_2006', 'KBA13_HALTER_25', 'KBA13_HALTER_30', 'KBA13_HALTER_35', \n",
    "                'KBA13_HALTER_40', 'KBA13_HALTER_50', 'KBA13_HALTER_55', 'KBA13_HALTER_66', 'KBA13_HERST_BMW_BENZ',\n",
    "                'KBA13_HERST_SONST', 'KBA13_KMH_140', 'KBA13_KMH_211', 'KBA13_KMH_250', 'KBA13_KRSHERST_FORD_OPEL', \n",
    "                'KBA13_KW_30', 'KBA13_KW_61_120', 'KBA13_MERCEDES', 'KBA13_OPEL', 'KBA13_SEG_KLEINWAGEN',\n",
    "                'KBA13_SEG_MINIVANS', 'KBA13_SEG_VAN', 'KBA13_SITZE_5', 'KBA13_VORB_1', 'KBA13_VORB_2', \n",
    "                'KBA13_VW', 'LP_LEBENSPHASE_FEIN', 'LP_LEBENSPHASE_GROB', 'ONLINE_AFFINITAET', 'ORTSGR_KLS9',\n",
    "                'PLZ8_ANTG3', 'PLZ8_ANTG4', 'PLZ8_GBZ', 'PLZ8_HHZ', 'PRAEGENDE_JUGENDJAHRE','REGIOTYP',\n",
    "                'SEMIO_KAEM', 'SEMIO_VERT', 'ANREDE_KZ', 'ALTERSKATEGORIE_GROB','BALLRAUM', \n",
    "                'CJT_GESAMTTYP', 'D19_BANKEN_DATUM','D19_BANKEN_OFFLINE_DATUM','CAMEO_DEU_2015',\n",
    "                 'CUSTOMER_GROUP', 'PRODUCT_GROUP','ONLINE_PURCHASE']\n",
    "customers.drop(drop_columns,inplace=True,axis=1)\n",
    "#looking for nans\n",
    "rows_nans = customers.isnull().mean(axis=1);\n",
    "drop_rows = rows_nans[rows_nans>=0.2].index\n",
    "customers.drop(drop_rows,axis=0,inplace=True)\n",
    "customers[['CAMEO_DEUG_2015']] = customers[['CAMEO_DEUG_2015']].replace(['XX','X'],np.NaN)    \n",
    "customers['CAMEO_DEUG_2015']=customers['CAMEO_DEUG_2015'].apply(pd.to_numeric)\n",
    "# finding numeric and categorical columns\n",
    "Numeric_columns=customers.select_dtypes(include=np.number).columns.tolist()\n",
    "categorical_col=set(customers.columns).difference(set(Numeric_columns))\n",
    "# numeric cols to numeric\n",
    "print(categorical_col)\n",
    "customers[Numeric_columns]=customers[Numeric_columns].apply(pd.to_numeric)\n",
    "customers=customers.fillna(customers.mode().iloc[0])\n",
    "customers=pd.get_dummies(customers)\n",
    "# finding numeric and categorical columns\n",
    "Numeric_columns=customers.select_dtypes(include=np.number).columns.tolist()\n",
    "categorical_col=set(customers.columns).difference(set(Numeric_columns))\n",
    "# numeric cols to numeric\n",
    "print(categorical_col)"
   ]
  },
  {
   "cell_type": "code",
   "execution_count": 10,
   "metadata": {},
   "outputs": [
    {
     "data": {
      "text/plain": [
       "(135144, 183)"
      ]
     },
     "execution_count": 10,
     "metadata": {},
     "output_type": "execute_result"
    }
   ],
   "source": [
    "customers.shape"
   ]
  },
  {
   "cell_type": "code",
   "execution_count": 11,
   "metadata": {},
   "outputs": [
    {
     "data": {
      "text/plain": [
       "Text(0.5,0,'prop. of missing values')"
      ]
     },
     "execution_count": 11,
     "metadata": {},
     "output_type": "execute_result"
    },
    {
     "data": {
      "image/png": "[encoded data removed]",
      "text/plain": [
       "<matplotlib.figure.Figure at 0x7f68c56ea6d8>"
      ]
     },
     "metadata": {
      "needs_background": "light"
     },
     "output_type": "display_data"
    }
   ],
   "source": [
    "#looking for nans\n",
    "rows_nans = customers.isnull().mean(axis=1)\n",
    "plt.hist(rows_nans)\n",
    "plt.ylabel('# of features')\n",
    "plt.xlabel('prop. of missing values')"
   ]
  },
  {
   "cell_type": "code",
   "execution_count": 12,
   "metadata": {},
   "outputs": [
    {
     "data": {
      "text/plain": [
       "Text(0.5,0,'prop. of missing values')"
      ]
     },
     "execution_count": 12,
     "metadata": {},
     "output_type": "execute_result"
    },
    {
     "data": {
      "image/png": "[encoded data removed]",
      "text/plain": [
       "<matplotlib.figure.Figure at 0x7f68c50c6ba8>"
      ]
     },
     "metadata": {
      "needs_background": "light"
     },
     "output_type": "display_data"
    }
   ],
   "source": [
    "#looking for nans\n",
    "column_nans = azdias.isnull().mean()\n",
    "plt.hist(column_nans, bins = np.arange(0,1+.05,.05))\n",
    "plt.ylabel('# of features')\n",
    "plt.xlabel('prop. of missing values')"
   ]
  },
  {
   "cell_type": "code",
   "execution_count": 13,
   "metadata": {},
   "outputs": [],
   "source": [
    "customers.to_csv('customers.csv')"
   ]
  },
  {
   "cell_type": "code",
   "execution_count": 14,
   "metadata": {},
   "outputs": [
    {
     "name": "stdout",
     "output_type": "stream",
     "text": [
      "(751331, 183)\n",
      "(135144, 183)\n"
     ]
    }
   ],
   "source": [
    "print(azdias.shape)\n",
    "print(customers.shape)"
   ]
  },
  {
   "cell_type": "markdown",
   "metadata": {},
   "source": [
    "## Part 1: Customer Segmentation Report\n",
    "\n",
    "using unsupervised learning techniques to describe the relationship between the demographics of the company's existing customers and the general population of Germany. ."
   ]
  },
  {
   "cell_type": "code",
   "execution_count": 2,
   "metadata": {},
   "outputs": [],
   "source": [
    "azdias = pd.read_csv('azdias.csv')"
   ]
  },
  {
   "cell_type": "code",
   "execution_count": 3,
   "metadata": {},
   "outputs": [
    {
     "data": {
      "text/html": [
       "<div>\n",
       "<style scoped>\n",
       "    .dataframe tbody tr th:only-of-type {\n",
       "        vertical-align: middle;\n",
       "    }\n",
       "\n",
       "    .dataframe tbody tr th {\n",
       "        vertical-align: top;\n",
       "    }\n",
       "\n",
       "    .dataframe thead th {\n",
       "        text-align: right;\n",
       "    }\n",
       "</style>\n",
       "<table border=\"1\" class=\"dataframe\">\n",
       "  <thead>\n",
       "    <tr style=\"text-align: right;\">\n",
       "      <th></th>\n",
       "      <th>Unnamed: 0</th>\n",
       "      <th>ANZ_HAUSHALTE_AKTIV</th>\n",
       "      <th>ANZ_HH_TITEL</th>\n",
       "      <th>ANZ_PERSONEN</th>\n",
       "      <th>ANZ_TITEL</th>\n",
       "      <th>CAMEO_DEUG_2015</th>\n",
       "      <th>D19_GESAMT_DATUM</th>\n",
       "      <th>D19_GESAMT_OFFLINE_DATUM</th>\n",
       "      <th>D19_TELKO_DATUM</th>\n",
       "      <th>D19_TELKO_OFFLINE_DATUM</th>\n",
       "      <th>...</th>\n",
       "      <th>SEMIO_SOZ</th>\n",
       "      <th>SEMIO_TRADV</th>\n",
       "      <th>SHOPPER_TYP</th>\n",
       "      <th>VERS_TYP</th>\n",
       "      <th>W_KEIT_KIND_HH</th>\n",
       "      <th>WOHNDAUER_2008</th>\n",
       "      <th>WOHNLAGE</th>\n",
       "      <th>ZABEOTYP</th>\n",
       "      <th>OST_WEST_KZ_O</th>\n",
       "      <th>OST_WEST_KZ_W</th>\n",
       "    </tr>\n",
       "  </thead>\n",
       "  <tbody>\n",
       "    <tr>\n",
       "      <th>0</th>\n",
       "      <td>1</td>\n",
       "      <td>11.0</td>\n",
       "      <td>0.0</td>\n",
       "      <td>2.0</td>\n",
       "      <td>0.0</td>\n",
       "      <td>8.0</td>\n",
       "      <td>10</td>\n",
       "      <td>10</td>\n",
       "      <td>10</td>\n",
       "      <td>10</td>\n",
       "      <td>...</td>\n",
       "      <td>5</td>\n",
       "      <td>6</td>\n",
       "      <td>3</td>\n",
       "      <td>2</td>\n",
       "      <td>3.0</td>\n",
       "      <td>9.0</td>\n",
       "      <td>4.0</td>\n",
       "      <td>5</td>\n",
       "      <td>0</td>\n",
       "      <td>1</td>\n",
       "    </tr>\n",
       "    <tr>\n",
       "      <th>1</th>\n",
       "      <td>2</td>\n",
       "      <td>10.0</td>\n",
       "      <td>0.0</td>\n",
       "      <td>1.0</td>\n",
       "      <td>0.0</td>\n",
       "      <td>4.0</td>\n",
       "      <td>10</td>\n",
       "      <td>10</td>\n",
       "      <td>10</td>\n",
       "      <td>10</td>\n",
       "      <td>...</td>\n",
       "      <td>4</td>\n",
       "      <td>3</td>\n",
       "      <td>2</td>\n",
       "      <td>1</td>\n",
       "      <td>3.0</td>\n",
       "      <td>9.0</td>\n",
       "      <td>2.0</td>\n",
       "      <td>5</td>\n",
       "      <td>0</td>\n",
       "      <td>1</td>\n",
       "    </tr>\n",
       "    <tr>\n",
       "      <th>2</th>\n",
       "      <td>3</td>\n",
       "      <td>1.0</td>\n",
       "      <td>0.0</td>\n",
       "      <td>0.0</td>\n",
       "      <td>0.0</td>\n",
       "      <td>2.0</td>\n",
       "      <td>10</td>\n",
       "      <td>10</td>\n",
       "      <td>10</td>\n",
       "      <td>10</td>\n",
       "      <td>...</td>\n",
       "      <td>5</td>\n",
       "      <td>4</td>\n",
       "      <td>1</td>\n",
       "      <td>1</td>\n",
       "      <td>6.0</td>\n",
       "      <td>9.0</td>\n",
       "      <td>7.0</td>\n",
       "      <td>3</td>\n",
       "      <td>0</td>\n",
       "      <td>1</td>\n",
       "    </tr>\n",
       "    <tr>\n",
       "      <th>3</th>\n",
       "      <td>4</td>\n",
       "      <td>3.0</td>\n",
       "      <td>0.0</td>\n",
       "      <td>4.0</td>\n",
       "      <td>0.0</td>\n",
       "      <td>6.0</td>\n",
       "      <td>1</td>\n",
       "      <td>6</td>\n",
       "      <td>6</td>\n",
       "      <td>8</td>\n",
       "      <td>...</td>\n",
       "      <td>6</td>\n",
       "      <td>2</td>\n",
       "      <td>2</td>\n",
       "      <td>2</td>\n",
       "      <td>2.0</td>\n",
       "      <td>9.0</td>\n",
       "      <td>3.0</td>\n",
       "      <td>4</td>\n",
       "      <td>0</td>\n",
       "      <td>1</td>\n",
       "    </tr>\n",
       "    <tr>\n",
       "      <th>4</th>\n",
       "      <td>5</td>\n",
       "      <td>5.0</td>\n",
       "      <td>0.0</td>\n",
       "      <td>1.0</td>\n",
       "      <td>0.0</td>\n",
       "      <td>8.0</td>\n",
       "      <td>3</td>\n",
       "      <td>10</td>\n",
       "      <td>10</td>\n",
       "      <td>10</td>\n",
       "      <td>...</td>\n",
       "      <td>2</td>\n",
       "      <td>6</td>\n",
       "      <td>0</td>\n",
       "      <td>2</td>\n",
       "      <td>6.0</td>\n",
       "      <td>9.0</td>\n",
       "      <td>7.0</td>\n",
       "      <td>4</td>\n",
       "      <td>0</td>\n",
       "      <td>1</td>\n",
       "    </tr>\n",
       "  </tbody>\n",
       "</table>\n",
       "<p>5 rows × 184 columns</p>\n",
       "</div>"
      ],
      "text/plain": [
       "   Unnamed: 0  ANZ_HAUSHALTE_AKTIV  ANZ_HH_TITEL  ANZ_PERSONEN  ANZ_TITEL  \\\n",
       "0           1                 11.0           0.0           2.0        0.0   \n",
       "1           2                 10.0           0.0           1.0        0.0   \n",
       "2           3                  1.0           0.0           0.0        0.0   \n",
       "3           4                  3.0           0.0           4.0        0.0   \n",
       "4           5                  5.0           0.0           1.0        0.0   \n",
       "\n",
       "   CAMEO_DEUG_2015  D19_GESAMT_DATUM  D19_GESAMT_OFFLINE_DATUM  \\\n",
       "0              8.0                10                        10   \n",
       "1              4.0                10                        10   \n",
       "2              2.0                10                        10   \n",
       "3              6.0                 1                         6   \n",
       "4              8.0                 3                        10   \n",
       "\n",
       "   D19_TELKO_DATUM  D19_TELKO_OFFLINE_DATUM      ...        SEMIO_SOZ  \\\n",
       "0               10                       10      ...                5   \n",
       "1               10                       10      ...                4   \n",
       "2               10                       10      ...                5   \n",
       "3                6                        8      ...                6   \n",
       "4               10                       10      ...                2   \n",
       "\n",
       "   SEMIO_TRADV  SHOPPER_TYP  VERS_TYP  W_KEIT_KIND_HH  WOHNDAUER_2008  \\\n",
       "0            6            3         2             3.0             9.0   \n",
       "1            3            2         1             3.0             9.0   \n",
       "2            4            1         1             6.0             9.0   \n",
       "3            2            2         2             2.0             9.0   \n",
       "4            6            0         2             6.0             9.0   \n",
       "\n",
       "   WOHNLAGE  ZABEOTYP  OST_WEST_KZ_O  OST_WEST_KZ_W  \n",
       "0       4.0         5              0              1  \n",
       "1       2.0         5              0              1  \n",
       "2       7.0         3              0              1  \n",
       "3       3.0         4              0              1  \n",
       "4       7.0         4              0              1  \n",
       "\n",
       "[5 rows x 184 columns]"
      ]
     },
     "execution_count": 3,
     "metadata": {},
     "output_type": "execute_result"
    }
   ],
   "source": [
    "azdias.head()"
   ]
  },
  {
   "cell_type": "code",
   "execution_count": 4,
   "metadata": {},
   "outputs": [],
   "source": [
    "del azdias['Unnamed: 0']"
   ]
  },
  {
   "cell_type": "code",
   "execution_count": 5,
   "metadata": {},
   "outputs": [],
   "source": [
    "customers = pd.read_csv('customers.csv')"
   ]
  },
  {
   "cell_type": "code",
   "execution_count": 6,
   "metadata": {},
   "outputs": [
    {
     "data": {
      "text/html": [
       "<div>\n",
       "<style scoped>\n",
       "    .dataframe tbody tr th:only-of-type {\n",
       "        vertical-align: middle;\n",
       "    }\n",
       "\n",
       "    .dataframe tbody tr th {\n",
       "        vertical-align: top;\n",
       "    }\n",
       "\n",
       "    .dataframe thead th {\n",
       "        text-align: right;\n",
       "    }\n",
       "</style>\n",
       "<table border=\"1\" class=\"dataframe\">\n",
       "  <thead>\n",
       "    <tr style=\"text-align: right;\">\n",
       "      <th></th>\n",
       "      <th>Unnamed: 0</th>\n",
       "      <th>ANZ_HAUSHALTE_AKTIV</th>\n",
       "      <th>ANZ_HH_TITEL</th>\n",
       "      <th>ANZ_PERSONEN</th>\n",
       "      <th>ANZ_TITEL</th>\n",
       "      <th>CAMEO_DEUG_2015</th>\n",
       "      <th>D19_GESAMT_DATUM</th>\n",
       "      <th>D19_GESAMT_OFFLINE_DATUM</th>\n",
       "      <th>D19_TELKO_DATUM</th>\n",
       "      <th>D19_TELKO_OFFLINE_DATUM</th>\n",
       "      <th>...</th>\n",
       "      <th>SEMIO_SOZ</th>\n",
       "      <th>SEMIO_TRADV</th>\n",
       "      <th>SHOPPER_TYP</th>\n",
       "      <th>VERS_TYP</th>\n",
       "      <th>W_KEIT_KIND_HH</th>\n",
       "      <th>WOHNDAUER_2008</th>\n",
       "      <th>WOHNLAGE</th>\n",
       "      <th>ZABEOTYP</th>\n",
       "      <th>OST_WEST_KZ_O</th>\n",
       "      <th>OST_WEST_KZ_W</th>\n",
       "    </tr>\n",
       "  </thead>\n",
       "  <tbody>\n",
       "    <tr>\n",
       "      <th>0</th>\n",
       "      <td>0</td>\n",
       "      <td>1.0</td>\n",
       "      <td>0.0</td>\n",
       "      <td>2.0</td>\n",
       "      <td>0.0</td>\n",
       "      <td>1.0</td>\n",
       "      <td>9</td>\n",
       "      <td>9</td>\n",
       "      <td>10</td>\n",
       "      <td>10</td>\n",
       "      <td>...</td>\n",
       "      <td>6</td>\n",
       "      <td>1</td>\n",
       "      <td>3</td>\n",
       "      <td>1</td>\n",
       "      <td>6.0</td>\n",
       "      <td>9.0</td>\n",
       "      <td>7.0</td>\n",
       "      <td>3</td>\n",
       "      <td>0</td>\n",
       "      <td>1</td>\n",
       "    </tr>\n",
       "    <tr>\n",
       "      <th>1</th>\n",
       "      <td>2</td>\n",
       "      <td>1.0</td>\n",
       "      <td>0.0</td>\n",
       "      <td>1.0</td>\n",
       "      <td>0.0</td>\n",
       "      <td>5.0</td>\n",
       "      <td>10</td>\n",
       "      <td>10</td>\n",
       "      <td>10</td>\n",
       "      <td>10</td>\n",
       "      <td>...</td>\n",
       "      <td>2</td>\n",
       "      <td>1</td>\n",
       "      <td>1</td>\n",
       "      <td>2</td>\n",
       "      <td>6.0</td>\n",
       "      <td>9.0</td>\n",
       "      <td>2.0</td>\n",
       "      <td>3</td>\n",
       "      <td>0</td>\n",
       "      <td>1</td>\n",
       "    </tr>\n",
       "    <tr>\n",
       "      <th>2</th>\n",
       "      <td>3</td>\n",
       "      <td>0.0</td>\n",
       "      <td>0.0</td>\n",
       "      <td>0.0</td>\n",
       "      <td>0.0</td>\n",
       "      <td>4.0</td>\n",
       "      <td>6</td>\n",
       "      <td>6</td>\n",
       "      <td>10</td>\n",
       "      <td>10</td>\n",
       "      <td>...</td>\n",
       "      <td>6</td>\n",
       "      <td>4</td>\n",
       "      <td>0</td>\n",
       "      <td>1</td>\n",
       "      <td>6.0</td>\n",
       "      <td>9.0</td>\n",
       "      <td>7.0</td>\n",
       "      <td>1</td>\n",
       "      <td>0</td>\n",
       "      <td>1</td>\n",
       "    </tr>\n",
       "    <tr>\n",
       "      <th>3</th>\n",
       "      <td>4</td>\n",
       "      <td>7.0</td>\n",
       "      <td>0.0</td>\n",
       "      <td>4.0</td>\n",
       "      <td>0.0</td>\n",
       "      <td>7.0</td>\n",
       "      <td>1</td>\n",
       "      <td>8</td>\n",
       "      <td>7</td>\n",
       "      <td>10</td>\n",
       "      <td>...</td>\n",
       "      <td>4</td>\n",
       "      <td>4</td>\n",
       "      <td>1</td>\n",
       "      <td>2</td>\n",
       "      <td>2.0</td>\n",
       "      <td>9.0</td>\n",
       "      <td>3.0</td>\n",
       "      <td>1</td>\n",
       "      <td>0</td>\n",
       "      <td>1</td>\n",
       "    </tr>\n",
       "    <tr>\n",
       "      <th>4</th>\n",
       "      <td>5</td>\n",
       "      <td>1.0</td>\n",
       "      <td>0.0</td>\n",
       "      <td>2.0</td>\n",
       "      <td>0.0</td>\n",
       "      <td>5.0</td>\n",
       "      <td>6</td>\n",
       "      <td>6</td>\n",
       "      <td>10</td>\n",
       "      <td>10</td>\n",
       "      <td>...</td>\n",
       "      <td>6</td>\n",
       "      <td>4</td>\n",
       "      <td>1</td>\n",
       "      <td>2</td>\n",
       "      <td>6.0</td>\n",
       "      <td>9.0</td>\n",
       "      <td>1.0</td>\n",
       "      <td>2</td>\n",
       "      <td>0</td>\n",
       "      <td>1</td>\n",
       "    </tr>\n",
       "  </tbody>\n",
       "</table>\n",
       "<p>5 rows × 184 columns</p>\n",
       "</div>"
      ],
      "text/plain": [
       "   Unnamed: 0  ANZ_HAUSHALTE_AKTIV  ANZ_HH_TITEL  ANZ_PERSONEN  ANZ_TITEL  \\\n",
       "0           0                  1.0           0.0           2.0        0.0   \n",
       "1           2                  1.0           0.0           1.0        0.0   \n",
       "2           3                  0.0           0.0           0.0        0.0   \n",
       "3           4                  7.0           0.0           4.0        0.0   \n",
       "4           5                  1.0           0.0           2.0        0.0   \n",
       "\n",
       "   CAMEO_DEUG_2015  D19_GESAMT_DATUM  D19_GESAMT_OFFLINE_DATUM  \\\n",
       "0              1.0                 9                         9   \n",
       "1              5.0                10                        10   \n",
       "2              4.0                 6                         6   \n",
       "3              7.0                 1                         8   \n",
       "4              5.0                 6                         6   \n",
       "\n",
       "   D19_TELKO_DATUM  D19_TELKO_OFFLINE_DATUM      ...        SEMIO_SOZ  \\\n",
       "0               10                       10      ...                6   \n",
       "1               10                       10      ...                2   \n",
       "2               10                       10      ...                6   \n",
       "3                7                       10      ...                4   \n",
       "4               10                       10      ...                6   \n",
       "\n",
       "   SEMIO_TRADV  SHOPPER_TYP  VERS_TYP  W_KEIT_KIND_HH  WOHNDAUER_2008  \\\n",
       "0            1            3         1             6.0             9.0   \n",
       "1            1            1         2             6.0             9.0   \n",
       "2            4            0         1             6.0             9.0   \n",
       "3            4            1         2             2.0             9.0   \n",
       "4            4            1         2             6.0             9.0   \n",
       "\n",
       "   WOHNLAGE  ZABEOTYP  OST_WEST_KZ_O  OST_WEST_KZ_W  \n",
       "0       7.0         3              0              1  \n",
       "1       2.0         3              0              1  \n",
       "2       7.0         1              0              1  \n",
       "3       3.0         1              0              1  \n",
       "4       1.0         2              0              1  \n",
       "\n",
       "[5 rows x 184 columns]"
      ]
     },
     "execution_count": 6,
     "metadata": {},
     "output_type": "execute_result"
    }
   ],
   "source": [
    "customers.head()"
   ]
  },
  {
   "cell_type": "code",
   "execution_count": 7,
   "metadata": {},
   "outputs": [],
   "source": [
    "del customers['Unnamed: 0']"
   ]
  },
  {
   "cell_type": "code",
   "execution_count": 8,
   "metadata": {},
   "outputs": [],
   "source": [
    "scaler = StandardScaler()\n",
    "azdias_scaled = scaler.fit_transform(azdias)\n",
    "customers_scaled = scaler.transform(customers)"
   ]
  },
  {
   "cell_type": "code",
   "execution_count": 10,
   "metadata": {},
   "outputs": [
    {
     "data": {
      "text/plain": [
       "PCA(copy=True, iterated_power='auto', n_components=None, random_state=None,\n",
       "  svd_solver='auto', tol=0.0, whiten=False)"
      ]
     },
     "execution_count": 10,
     "metadata": {},
     "output_type": "execute_result"
    }
   ],
   "source": [
    "pca=PCA()\n",
    "pca.fit(azdias_scaled)"
   ]
  },
  {
   "cell_type": "code",
   "execution_count": 11,
   "metadata": {},
   "outputs": [
    {
     "data": {
      "image/png": "[encoded data removed]",
      "text/plain": [
       "<matplotlib.figure.Figure at 0x7f1cdc3f0a90>"
      ]
     },
     "metadata": {
      "needs_background": "light"
     },
     "output_type": "display_data"
    }
   ],
   "source": [
    "plt.figure(figsize=(10,8))\n",
    "plt.plot(pca.explained_variance_ratio_.cumsum())\n",
    "plt.grid(True)\n",
    "plt.show()"
   ]
  },
  {
   "cell_type": "markdown",
   "metadata": {},
   "source": [
    "\n",
    "as a rule of thumb more than 80% is necessary.So i am taking 100 features so we can get about 90% variance."
   ]
  },
  {
   "cell_type": "code",
   "execution_count": 14,
   "metadata": {},
   "outputs": [],
   "source": [
    "pca = PCA(n_components=100)\n",
    "pca_azdias = pca.fit_transform(azdias_scaled)\n",
    "pca_azdias = pd.DataFrame(pca_azdias)"
   ]
  },
  {
   "cell_type": "code",
   "execution_count": 15,
   "metadata": {},
   "outputs": [],
   "source": [
    "pca_customers = pca.transform(customers_scaled)\n",
    "pca_customers = pd.DataFrame(pca_customers)"
   ]
  },
  {
   "cell_type": "code",
   "execution_count": 16,
   "metadata": {},
   "outputs": [
    {
     "name": "stdout",
     "output_type": "stream",
     "text": [
      "(751331, 100)\n",
      "(135144, 100)\n"
     ]
    }
   ],
   "source": [
    "# shape of reduced components\n",
    "print(pca_azdias.shape)\n",
    "print(pca_customers.shape)"
   ]
  },
  {
   "cell_type": "code",
   "execution_count": 17,
   "metadata": {},
   "outputs": [
    {
     "data": {
      "text/plain": [
       "PCA(copy=True, iterated_power='auto', n_components=100, random_state=None,\n",
       "  svd_solver='auto', tol=0.0, whiten=False)"
      ]
     },
     "execution_count": 17,
     "metadata": {},
     "output_type": "execute_result"
    }
   ],
   "source": [
    "pca"
   ]
  },
  {
   "cell_type": "code",
   "execution_count": 18,
   "metadata": {},
   "outputs": [
    {
     "data": {
      "text/html": [
       "<div>\n",
       "<style scoped>\n",
       "    .dataframe tbody tr th:only-of-type {\n",
       "        vertical-align: middle;\n",
       "    }\n",
       "\n",
       "    .dataframe tbody tr th {\n",
       "        vertical-align: top;\n",
       "    }\n",
       "\n",
       "    .dataframe thead th {\n",
       "        text-align: right;\n",
       "    }\n",
       "</style>\n",
       "<table border=\"1\" class=\"dataframe\">\n",
       "  <thead>\n",
       "    <tr style=\"text-align: right;\">\n",
       "      <th></th>\n",
       "      <th>feature names</th>\n",
       "      <th>weight</th>\n",
       "      <th>weight_abs</th>\n",
       "    </tr>\n",
       "  </thead>\n",
       "  <tbody>\n",
       "    <tr>\n",
       "      <th>67</th>\n",
       "      <td>KBA05_SEG6</td>\n",
       "      <td>0.205222</td>\n",
       "      <td>0.205222</td>\n",
       "    </tr>\n",
       "    <tr>\n",
       "      <th>46</th>\n",
       "      <td>KBA05_KRSVAN</td>\n",
       "      <td>0.183296</td>\n",
       "      <td>0.183296</td>\n",
       "    </tr>\n",
       "    <tr>\n",
       "      <th>45</th>\n",
       "      <td>KBA05_KRSOBER</td>\n",
       "      <td>0.183204</td>\n",
       "      <td>0.183204</td>\n",
       "    </tr>\n",
       "    <tr>\n",
       "      <th>47</th>\n",
       "      <td>KBA05_KRSZUL</td>\n",
       "      <td>0.176731</td>\n",
       "      <td>0.176731</td>\n",
       "    </tr>\n",
       "    <tr>\n",
       "      <th>44</th>\n",
       "      <td>KBA05_KRSKLEIN</td>\n",
       "      <td>0.173227</td>\n",
       "      <td>0.173227</td>\n",
       "    </tr>\n",
       "  </tbody>\n",
       "</table>\n",
       "</div>"
      ],
      "text/plain": [
       "     feature names    weight  weight_abs\n",
       "67      KBA05_SEG6  0.205222    0.205222\n",
       "46    KBA05_KRSVAN  0.183296    0.183296\n",
       "45   KBA05_KRSOBER  0.183204    0.183204\n",
       "47    KBA05_KRSZUL  0.176731    0.176731\n",
       "44  KBA05_KRSKLEIN  0.173227    0.173227"
      ]
     },
     "execution_count": 18,
     "metadata": {},
     "output_type": "execute_result"
    }
   ],
   "source": [
    "def map_weights(pca, cols, component):\n",
    "    comp =  pd.DataFrame({'feature names': cols, 'weight': pca.components_[component], 'weight_abs': np.abs(pca.components_[component])})\n",
    "    return comp.sort_values(by=['weight_abs'], ascending=False)\n",
    "comp_0 = map_weights(pca, azdias.columns, 0)\n",
    "comp_0.head()"
   ]
  },
  {
   "cell_type": "markdown",
   "metadata": {},
   "source": [
    "So in Germany share of cars and vans are incresing ike BMW in microcell."
   ]
  },
  {
   "cell_type": "code",
   "execution_count": 16,
   "metadata": {},
   "outputs": [
    {
     "data": {
      "text/html": [
       "<div>\n",
       "<style scoped>\n",
       "    .dataframe tbody tr th:only-of-type {\n",
       "        vertical-align: middle;\n",
       "    }\n",
       "\n",
       "    .dataframe tbody tr th {\n",
       "        vertical-align: top;\n",
       "    }\n",
       "\n",
       "    .dataframe thead th {\n",
       "        text-align: right;\n",
       "    }\n",
       "</style>\n",
       "<table border=\"1\" class=\"dataframe\">\n",
       "  <thead>\n",
       "    <tr style=\"text-align: right;\">\n",
       "      <th></th>\n",
       "      <th>feature names</th>\n",
       "      <th>weight</th>\n",
       "      <th>weight_abs</th>\n",
       "    </tr>\n",
       "  </thead>\n",
       "  <tbody>\n",
       "    <tr>\n",
       "      <th>182</th>\n",
       "      <td>OST_WEST_KZ_W</td>\n",
       "      <td>0.152870</td>\n",
       "      <td>0.152870</td>\n",
       "    </tr>\n",
       "    <tr>\n",
       "      <th>181</th>\n",
       "      <td>OST_WEST_KZ_O</td>\n",
       "      <td>-0.152870</td>\n",
       "      <td>0.152870</td>\n",
       "    </tr>\n",
       "    <tr>\n",
       "      <th>20</th>\n",
       "      <td>HH_EINKOMMEN_SCORE</td>\n",
       "      <td>-0.152530</td>\n",
       "      <td>0.152530</td>\n",
       "    </tr>\n",
       "    <tr>\n",
       "      <th>142</th>\n",
       "      <td>KBA13_SEG_KOMPAKTKLASSE</td>\n",
       "      <td>-0.149681</td>\n",
       "      <td>0.149681</td>\n",
       "    </tr>\n",
       "    <tr>\n",
       "      <th>124</th>\n",
       "      <td>KBA13_KW_0_60</td>\n",
       "      <td>-0.146195</td>\n",
       "      <td>0.146195</td>\n",
       "    </tr>\n",
       "  </tbody>\n",
       "</table>\n",
       "</div>"
      ],
      "text/plain": [
       "               feature names    weight  weight_abs\n",
       "182            OST_WEST_KZ_W  0.152870    0.152870\n",
       "181            OST_WEST_KZ_O -0.152870    0.152870\n",
       "20        HH_EINKOMMEN_SCORE -0.152530    0.152530\n",
       "142  KBA13_SEG_KOMPAKTKLASSE -0.149681    0.149681\n",
       "124            KBA13_KW_0_60 -0.146195    0.146195"
      ]
     },
     "execution_count": 16,
     "metadata": {},
     "output_type": "execute_result"
    }
   ],
   "source": [
    "comp_1 = map_weights(pca, azdias.columns, 1)\n",
    "comp_1.head()"
   ]
  },
  {
   "cell_type": "markdown",
   "metadata": {},
   "source": [
    "East Germany are preferably like to own  middleclass car as compare to west Germany."
   ]
  },
  {
   "cell_type": "code",
   "execution_count": 17,
   "metadata": {},
   "outputs": [
    {
     "data": {
      "text/html": [
       "<div>\n",
       "<style scoped>\n",
       "    .dataframe tbody tr th:only-of-type {\n",
       "        vertical-align: middle;\n",
       "    }\n",
       "\n",
       "    .dataframe tbody tr th {\n",
       "        vertical-align: top;\n",
       "    }\n",
       "\n",
       "    .dataframe thead th {\n",
       "        text-align: right;\n",
       "    }\n",
       "</style>\n",
       "<table border=\"1\" class=\"dataframe\">\n",
       "  <thead>\n",
       "    <tr style=\"text-align: right;\">\n",
       "      <th></th>\n",
       "      <th>feature names</th>\n",
       "      <th>weight</th>\n",
       "      <th>weight_abs</th>\n",
       "    </tr>\n",
       "  </thead>\n",
       "  <tbody>\n",
       "    <tr>\n",
       "      <th>10</th>\n",
       "      <td>EWDICHTE</td>\n",
       "      <td>0.239087</td>\n",
       "      <td>0.239087</td>\n",
       "    </tr>\n",
       "    <tr>\n",
       "      <th>78</th>\n",
       "      <td>KBA13_ALTERHALTER_60</td>\n",
       "      <td>-0.220752</td>\n",
       "      <td>0.220752</td>\n",
       "    </tr>\n",
       "    <tr>\n",
       "      <th>82</th>\n",
       "      <td>KBA13_AUTOQUOTE</td>\n",
       "      <td>-0.219402</td>\n",
       "      <td>0.219402</td>\n",
       "    </tr>\n",
       "    <tr>\n",
       "      <th>36</th>\n",
       "      <td>KBA05_GBZ</td>\n",
       "      <td>-0.205203</td>\n",
       "      <td>0.205203</td>\n",
       "    </tr>\n",
       "    <tr>\n",
       "      <th>26</th>\n",
       "      <td>KBA05_ANTG1</td>\n",
       "      <td>-0.204106</td>\n",
       "      <td>0.204106</td>\n",
       "    </tr>\n",
       "  </tbody>\n",
       "</table>\n",
       "</div>"
      ],
      "text/plain": [
       "           feature names    weight  weight_abs\n",
       "10              EWDICHTE  0.239087    0.239087\n",
       "78  KBA13_ALTERHALTER_60 -0.220752    0.220752\n",
       "82       KBA13_AUTOQUOTE -0.219402    0.219402\n",
       "36             KBA05_GBZ -0.205203    0.205203\n",
       "26           KBA05_ANTG1 -0.204106    0.204106"
      ]
     },
     "execution_count": 17,
     "metadata": {},
     "output_type": "execute_result"
    }
   ],
   "source": [
    "comp_2 = map_weights(pca, azdias.columns, 2)\n",
    "comp_2.head()"
   ]
  },
  {
   "cell_type": "markdown",
   "metadata": {},
   "source": [
    "in PLZ8 number of cell and building are increasing and also the share of car and mostly the car owner are in 46 to \n",
    "60 yrs old."
   ]
  },
  {
   "cell_type": "code",
   "execution_count": 18,
   "metadata": {},
   "outputs": [],
   "source": [
    "pca_azdias_sample=pca_azdias.sample(20000)"
   ]
  },
  {
   "cell_type": "code",
   "execution_count": 19,
   "metadata": {},
   "outputs": [],
   "source": [
    "wcss=[]\n",
    "score=[]\n",
    "for i in range(1,21):\n",
    "    #print(i)\n",
    "    kmeans_pca=KMeans(n_clusters=i,init='k-means++',random_state=42)\n",
    "    model=kmeans_pca.fit(pca_azdias_sample)\n",
    "    wcss.append(model.inertia_)"
   ]
  },
  {
   "cell_type": "code",
   "execution_count": 20,
   "metadata": {},
   "outputs": [
    {
     "data": {
      "image/png": "[encoded data removed]",
      "text/plain": [
       "<matplotlib.figure.Figure at 0x7f1cdc3f0c50>"
      ]
     },
     "metadata": {
      "needs_background": "light"
     },
     "output_type": "display_data"
    }
   ],
   "source": [
    "plt.figure(figsize=(14,6))\n",
    "plt.plot(range(1,21),wcss,marker='o',linestyle='--')\n",
    "plt.grid(True)\n",
    "plt.show()"
   ]
  },
  {
   "cell_type": "markdown",
   "metadata": {},
   "source": [
    "I think **5** is right number for KMeans clustering."
   ]
  },
  {
   "cell_type": "code",
   "execution_count": 19,
   "metadata": {},
   "outputs": [],
   "source": [
    "kmeans = KMeans(5)\n",
    "model = kmeans.fit(pca_azdias)\n",
    "prediction_azdias = model.predict(pca_azdias)"
   ]
  },
  {
   "cell_type": "code",
   "execution_count": 20,
   "metadata": {},
   "outputs": [
    {
     "name": "stdout",
     "output_type": "stream",
     "text": [
      "[4 3 2 ..., 2 4 2]\n"
     ]
    }
   ],
   "source": [
    "print(prediction_azdias)"
   ]
  },
  {
   "cell_type": "code",
   "execution_count": 21,
   "metadata": {},
   "outputs": [
    {
     "data": {
      "text/plain": [
       "751331"
      ]
     },
     "execution_count": 21,
     "metadata": {},
     "output_type": "execute_result"
    }
   ],
   "source": [
    "len(prediction_azdias)"
   ]
  },
  {
   "cell_type": "code",
   "execution_count": 22,
   "metadata": {},
   "outputs": [],
   "source": [
    "prediction_customers = model.predict(pca_customers)"
   ]
  },
  {
   "cell_type": "code",
   "execution_count": 23,
   "metadata": {},
   "outputs": [
    {
     "name": "stdout",
     "output_type": "stream",
     "text": [
      "[2 3 2 ..., 2 2 2]\n"
     ]
    }
   ],
   "source": [
    "print(prediction_customers)"
   ]
  },
  {
   "cell_type": "code",
   "execution_count": 24,
   "metadata": {},
   "outputs": [
    {
     "data": {
      "text/plain": [
       "135144"
      ]
     },
     "execution_count": 24,
     "metadata": {},
     "output_type": "execute_result"
    }
   ],
   "source": [
    "len(prediction_customers)"
   ]
  },
  {
   "cell_type": "code",
   "execution_count": 25,
   "metadata": {},
   "outputs": [
    {
     "name": "stdout",
     "output_type": "stream",
     "text": [
      "{0: 6940, 1: 898, 2: 66098, 3: 45122, 4: 16086}\n",
      "{0: 119158, 1: 14043, 2: 247426, 3: 148185, 4: 222519}\n"
     ]
    }
   ],
   "source": [
    "cust_dict = {}\n",
    "for c in set(prediction_customers):\n",
    "    cust_dict[c] = sum(prediction_customers == c)\n",
    "\n",
    "print(cust_dict)\n",
    "\n",
    "y_dict = {}\n",
    "for c in set(prediction_azdias):\n",
    "    y_dict[c] = sum(prediction_azdias == c)\n",
    "\n",
    "print(y_dict)"
   ]
  },
  {
   "cell_type": "code",
   "execution_count": 26,
   "metadata": {},
   "outputs": [
    {
     "data": {
      "text/plain": [
       "{0: array([   145,    147,    148, ..., 751244, 751259, 751263]),\n",
       " 1: array([    37,     52,    204, ..., 751125, 751152, 751193]),\n",
       " 2: array([     2,     10,     11, ..., 751326, 751328, 751330]),\n",
       " 3: array([     1,      3,      4, ..., 751312, 751313, 751322]),\n",
       " 4: array([     0,      5,      9, ..., 751325, 751327, 751329])}"
      ]
     },
     "execution_count": 26,
     "metadata": {},
     "output_type": "execute_result"
    }
   ],
   "source": [
    "{i: np.where(kmeans.labels_ == i)[0] for i in range(kmeans.n_clusters)}"
   ]
  },
  {
   "cell_type": "code",
   "execution_count": 27,
   "metadata": {},
   "outputs": [
    {
     "data": {
      "text/plain": [
       "array([4, 3, 2, ..., 2, 4, 2], dtype=int32)"
      ]
     },
     "execution_count": 27,
     "metadata": {},
     "output_type": "execute_result"
    }
   ],
   "source": [
    "kmeans.labels_"
   ]
  },
  {
   "cell_type": "code",
   "execution_count": 28,
   "metadata": {},
   "outputs": [
    {
     "data": {
      "text/plain": [
       "5"
      ]
     },
     "execution_count": 28,
     "metadata": {},
     "output_type": "execute_result"
    }
   ],
   "source": [
    "kmeans.n_clusters"
   ]
  },
  {
   "cell_type": "code",
   "execution_count": 29,
   "metadata": {},
   "outputs": [],
   "source": [
    "azdias['labels'] = kmeans.labels_"
   ]
  },
  {
   "cell_type": "code",
   "execution_count": 30,
   "metadata": {},
   "outputs": [
    {
     "data": {
      "text/plain": [
       "(751331, 184)"
      ]
     },
     "execution_count": 30,
     "metadata": {},
     "output_type": "execute_result"
    }
   ],
   "source": [
    "azdias.shape"
   ]
  },
  {
   "cell_type": "code",
   "execution_count": 31,
   "metadata": {},
   "outputs": [
    {
     "data": {
      "text/plain": [
       "(751331,)"
      ]
     },
     "execution_count": 31,
     "metadata": {},
     "output_type": "execute_result"
    }
   ],
   "source": [
    "kmeans.labels_.shape"
   ]
  },
  {
   "cell_type": "code",
   "execution_count": 32,
   "metadata": {},
   "outputs": [
    {
     "data": {
      "text/plain": [
       "0         4\n",
       "1         3\n",
       "2         2\n",
       "3         3\n",
       "4         3\n",
       "5         4\n",
       "6         3\n",
       "7         3\n",
       "8         3\n",
       "9         4\n",
       "10        2\n",
       "11        2\n",
       "12        3\n",
       "13        4\n",
       "14        4\n",
       "15        2\n",
       "16        3\n",
       "17        2\n",
       "18        2\n",
       "19        4\n",
       "20        2\n",
       "21        3\n",
       "22        2\n",
       "23        3\n",
       "24        2\n",
       "25        2\n",
       "26        2\n",
       "27        4\n",
       "28        2\n",
       "29        2\n",
       "         ..\n",
       "751301    2\n",
       "751302    2\n",
       "751303    4\n",
       "751304    3\n",
       "751305    2\n",
       "751306    2\n",
       "751307    4\n",
       "751308    3\n",
       "751309    3\n",
       "751310    4\n",
       "751311    4\n",
       "751312    3\n",
       "751313    3\n",
       "751314    2\n",
       "751315    4\n",
       "751316    2\n",
       "751317    2\n",
       "751318    2\n",
       "751319    4\n",
       "751320    4\n",
       "751321    4\n",
       "751322    3\n",
       "751323    2\n",
       "751324    4\n",
       "751325    4\n",
       "751326    2\n",
       "751327    4\n",
       "751328    2\n",
       "751329    4\n",
       "751330    2\n",
       "Name: labels, Length: 751331, dtype: int32"
      ]
     },
     "execution_count": 32,
     "metadata": {},
     "output_type": "execute_result"
    }
   ],
   "source": [
    "azdias['labels']"
   ]
  },
  {
   "cell_type": "code",
   "execution_count": 33,
   "metadata": {},
   "outputs": [],
   "source": [
    "cluster1 = azdias[azdias['labels']==1]"
   ]
  },
  {
   "cell_type": "code",
   "execution_count": 34,
   "metadata": {},
   "outputs": [
    {
     "data": {
      "text/plain": [
       "(14043, 184)"
      ]
     },
     "execution_count": 34,
     "metadata": {},
     "output_type": "execute_result"
    }
   ],
   "source": [
    "cluster1.shape"
   ]
  },
  {
   "cell_type": "code",
   "execution_count": 35,
   "metadata": {},
   "outputs": [],
   "source": [
    "cluster2 = azdias[azdias['labels']==2]"
   ]
  },
  {
   "cell_type": "code",
   "execution_count": 36,
   "metadata": {},
   "outputs": [
    {
     "data": {
      "text/plain": [
       "(247426, 184)"
      ]
     },
     "execution_count": 36,
     "metadata": {},
     "output_type": "execute_result"
    }
   ],
   "source": [
    "cluster2.shape"
   ]
  },
  {
   "cell_type": "code",
   "execution_count": 37,
   "metadata": {},
   "outputs": [
    {
     "data": {
      "text/html": [
       "<div>\n",
       "<style scoped>\n",
       "    .dataframe tbody tr th:only-of-type {\n",
       "        vertical-align: middle;\n",
       "    }\n",
       "\n",
       "    .dataframe tbody tr th {\n",
       "        vertical-align: top;\n",
       "    }\n",
       "\n",
       "    .dataframe thead th {\n",
       "        text-align: right;\n",
       "    }\n",
       "</style>\n",
       "<table border=\"1\" class=\"dataframe\">\n",
       "  <thead>\n",
       "    <tr style=\"text-align: right;\">\n",
       "      <th></th>\n",
       "      <th>ANZ_HAUSHALTE_AKTIV</th>\n",
       "      <th>ANZ_HH_TITEL</th>\n",
       "      <th>ANZ_PERSONEN</th>\n",
       "      <th>ANZ_TITEL</th>\n",
       "      <th>CAMEO_DEUG_2015</th>\n",
       "      <th>D19_GESAMT_DATUM</th>\n",
       "      <th>D19_GESAMT_OFFLINE_DATUM</th>\n",
       "      <th>D19_TELKO_DATUM</th>\n",
       "      <th>D19_TELKO_OFFLINE_DATUM</th>\n",
       "      <th>D19_TELKO_ONLINE_DATUM</th>\n",
       "      <th>...</th>\n",
       "      <th>SEMIO_TRADV</th>\n",
       "      <th>SHOPPER_TYP</th>\n",
       "      <th>VERS_TYP</th>\n",
       "      <th>W_KEIT_KIND_HH</th>\n",
       "      <th>WOHNDAUER_2008</th>\n",
       "      <th>WOHNLAGE</th>\n",
       "      <th>ZABEOTYP</th>\n",
       "      <th>OST_WEST_KZ_O</th>\n",
       "      <th>OST_WEST_KZ_W</th>\n",
       "      <th>labels</th>\n",
       "    </tr>\n",
       "  </thead>\n",
       "  <tbody>\n",
       "    <tr>\n",
       "      <th>count</th>\n",
       "      <td>247426.000000</td>\n",
       "      <td>247426.000000</td>\n",
       "      <td>247426.000000</td>\n",
       "      <td>247426.00000</td>\n",
       "      <td>247426.000000</td>\n",
       "      <td>247426.000000</td>\n",
       "      <td>247426.000000</td>\n",
       "      <td>247426.000000</td>\n",
       "      <td>247426.000000</td>\n",
       "      <td>247426.00000</td>\n",
       "      <td>...</td>\n",
       "      <td>247426.000000</td>\n",
       "      <td>247426.000000</td>\n",
       "      <td>247426.000000</td>\n",
       "      <td>247426.000000</td>\n",
       "      <td>247426.000000</td>\n",
       "      <td>247426.000000</td>\n",
       "      <td>247426.000000</td>\n",
       "      <td>247426.000000</td>\n",
       "      <td>247426.000000</td>\n",
       "      <td>247426.0</td>\n",
       "    </tr>\n",
       "    <tr>\n",
       "      <th>mean</th>\n",
       "      <td>2.367706</td>\n",
       "      <td>0.006507</td>\n",
       "      <td>2.086984</td>\n",
       "      <td>0.00268</td>\n",
       "      <td>4.034002</td>\n",
       "      <td>6.058749</td>\n",
       "      <td>8.600208</td>\n",
       "      <td>9.242634</td>\n",
       "      <td>9.732684</td>\n",
       "      <td>9.97459</td>\n",
       "      <td>...</td>\n",
       "      <td>3.604597</td>\n",
       "      <td>1.389470</td>\n",
       "      <td>1.407002</td>\n",
       "      <td>3.740504</td>\n",
       "      <td>8.208422</td>\n",
       "      <td>4.774167</td>\n",
       "      <td>2.864186</td>\n",
       "      <td>0.021489</td>\n",
       "      <td>0.978511</td>\n",
       "      <td>2.0</td>\n",
       "    </tr>\n",
       "    <tr>\n",
       "      <th>std</th>\n",
       "      <td>2.733414</td>\n",
       "      <td>0.084281</td>\n",
       "      <td>1.317776</td>\n",
       "      <td>0.05466</td>\n",
       "      <td>1.894874</td>\n",
       "      <td>3.287480</td>\n",
       "      <td>2.022946</td>\n",
       "      <td>1.522939</td>\n",
       "      <td>0.933588</td>\n",
       "      <td>0.29159</td>\n",
       "      <td>...</td>\n",
       "      <td>1.686580</td>\n",
       "      <td>1.143296</td>\n",
       "      <td>0.653645</td>\n",
       "      <td>1.936054</td>\n",
       "      <td>1.688802</td>\n",
       "      <td>2.167531</td>\n",
       "      <td>1.410104</td>\n",
       "      <td>0.145009</td>\n",
       "      <td>0.145009</td>\n",
       "      <td>0.0</td>\n",
       "    </tr>\n",
       "    <tr>\n",
       "      <th>min</th>\n",
       "      <td>0.000000</td>\n",
       "      <td>0.000000</td>\n",
       "      <td>0.000000</td>\n",
       "      <td>0.00000</td>\n",
       "      <td>1.000000</td>\n",
       "      <td>1.000000</td>\n",
       "      <td>1.000000</td>\n",
       "      <td>1.000000</td>\n",
       "      <td>1.000000</td>\n",
       "      <td>1.00000</td>\n",
       "      <td>...</td>\n",
       "      <td>1.000000</td>\n",
       "      <td>-1.000000</td>\n",
       "      <td>-1.000000</td>\n",
       "      <td>0.000000</td>\n",
       "      <td>1.000000</td>\n",
       "      <td>0.000000</td>\n",
       "      <td>1.000000</td>\n",
       "      <td>0.000000</td>\n",
       "      <td>0.000000</td>\n",
       "      <td>2.0</td>\n",
       "    </tr>\n",
       "    <tr>\n",
       "      <th>25%</th>\n",
       "      <td>1.000000</td>\n",
       "      <td>0.000000</td>\n",
       "      <td>1.000000</td>\n",
       "      <td>0.00000</td>\n",
       "      <td>3.000000</td>\n",
       "      <td>3.000000</td>\n",
       "      <td>8.000000</td>\n",
       "      <td>9.000000</td>\n",
       "      <td>10.000000</td>\n",
       "      <td>10.00000</td>\n",
       "      <td>...</td>\n",
       "      <td>2.000000</td>\n",
       "      <td>0.000000</td>\n",
       "      <td>1.000000</td>\n",
       "      <td>2.000000</td>\n",
       "      <td>9.000000</td>\n",
       "      <td>3.000000</td>\n",
       "      <td>1.000000</td>\n",
       "      <td>0.000000</td>\n",
       "      <td>1.000000</td>\n",
       "      <td>2.0</td>\n",
       "    </tr>\n",
       "    <tr>\n",
       "      <th>50%</th>\n",
       "      <td>2.000000</td>\n",
       "      <td>0.000000</td>\n",
       "      <td>2.000000</td>\n",
       "      <td>0.00000</td>\n",
       "      <td>4.000000</td>\n",
       "      <td>6.000000</td>\n",
       "      <td>9.000000</td>\n",
       "      <td>10.000000</td>\n",
       "      <td>10.000000</td>\n",
       "      <td>10.00000</td>\n",
       "      <td>...</td>\n",
       "      <td>4.000000</td>\n",
       "      <td>1.000000</td>\n",
       "      <td>1.000000</td>\n",
       "      <td>4.000000</td>\n",
       "      <td>9.000000</td>\n",
       "      <td>4.000000</td>\n",
       "      <td>3.000000</td>\n",
       "      <td>0.000000</td>\n",
       "      <td>1.000000</td>\n",
       "      <td>2.0</td>\n",
       "    </tr>\n",
       "    <tr>\n",
       "      <th>75%</th>\n",
       "      <td>3.000000</td>\n",
       "      <td>0.000000</td>\n",
       "      <td>3.000000</td>\n",
       "      <td>0.00000</td>\n",
       "      <td>5.000000</td>\n",
       "      <td>9.000000</td>\n",
       "      <td>10.000000</td>\n",
       "      <td>10.000000</td>\n",
       "      <td>10.000000</td>\n",
       "      <td>10.00000</td>\n",
       "      <td>...</td>\n",
       "      <td>5.000000</td>\n",
       "      <td>2.000000</td>\n",
       "      <td>2.000000</td>\n",
       "      <td>6.000000</td>\n",
       "      <td>9.000000</td>\n",
       "      <td>7.000000</td>\n",
       "      <td>4.000000</td>\n",
       "      <td>0.000000</td>\n",
       "      <td>1.000000</td>\n",
       "      <td>2.0</td>\n",
       "    </tr>\n",
       "    <tr>\n",
       "      <th>max</th>\n",
       "      <td>157.000000</td>\n",
       "      <td>3.000000</td>\n",
       "      <td>21.000000</td>\n",
       "      <td>2.00000</td>\n",
       "      <td>9.000000</td>\n",
       "      <td>10.000000</td>\n",
       "      <td>10.000000</td>\n",
       "      <td>10.000000</td>\n",
       "      <td>10.000000</td>\n",
       "      <td>10.00000</td>\n",
       "      <td>...</td>\n",
       "      <td>7.000000</td>\n",
       "      <td>3.000000</td>\n",
       "      <td>2.000000</td>\n",
       "      <td>6.000000</td>\n",
       "      <td>9.000000</td>\n",
       "      <td>8.000000</td>\n",
       "      <td>6.000000</td>\n",
       "      <td>1.000000</td>\n",
       "      <td>1.000000</td>\n",
       "      <td>2.0</td>\n",
       "    </tr>\n",
       "  </tbody>\n",
       "</table>\n",
       "<p>8 rows × 184 columns</p>\n",
       "</div>"
      ],
      "text/plain": [
       "       ANZ_HAUSHALTE_AKTIV   ANZ_HH_TITEL   ANZ_PERSONEN     ANZ_TITEL  \\\n",
       "count        247426.000000  247426.000000  247426.000000  247426.00000   \n",
       "mean              2.367706       0.006507       2.086984       0.00268   \n",
       "std               2.733414       0.084281       1.317776       0.05466   \n",
       "min               0.000000       0.000000       0.000000       0.00000   \n",
       "25%               1.000000       0.000000       1.000000       0.00000   \n",
       "50%               2.000000       0.000000       2.000000       0.00000   \n",
       "75%               3.000000       0.000000       3.000000       0.00000   \n",
       "max             157.000000       3.000000      21.000000       2.00000   \n",
       "\n",
       "       CAMEO_DEUG_2015  D19_GESAMT_DATUM  D19_GESAMT_OFFLINE_DATUM  \\\n",
       "count    247426.000000     247426.000000             247426.000000   \n",
       "mean          4.034002          6.058749                  8.600208   \n",
       "std           1.894874          3.287480                  2.022946   \n",
       "min           1.000000          1.000000                  1.000000   \n",
       "25%           3.000000          3.000000                  8.000000   \n",
       "50%           4.000000          6.000000                  9.000000   \n",
       "75%           5.000000          9.000000                 10.000000   \n",
       "max           9.000000         10.000000                 10.000000   \n",
       "\n",
       "       D19_TELKO_DATUM  D19_TELKO_OFFLINE_DATUM  D19_TELKO_ONLINE_DATUM  \\\n",
       "count    247426.000000            247426.000000            247426.00000   \n",
       "mean          9.242634                 9.732684                 9.97459   \n",
       "std           1.522939                 0.933588                 0.29159   \n",
       "min           1.000000                 1.000000                 1.00000   \n",
       "25%           9.000000                10.000000                10.00000   \n",
       "50%          10.000000                10.000000                10.00000   \n",
       "75%          10.000000                10.000000                10.00000   \n",
       "max          10.000000                10.000000                10.00000   \n",
       "\n",
       "         ...       SEMIO_TRADV    SHOPPER_TYP       VERS_TYP  W_KEIT_KIND_HH  \\\n",
       "count    ...     247426.000000  247426.000000  247426.000000   247426.000000   \n",
       "mean     ...          3.604597       1.389470       1.407002        3.740504   \n",
       "std      ...          1.686580       1.143296       0.653645        1.936054   \n",
       "min      ...          1.000000      -1.000000      -1.000000        0.000000   \n",
       "25%      ...          2.000000       0.000000       1.000000        2.000000   \n",
       "50%      ...          4.000000       1.000000       1.000000        4.000000   \n",
       "75%      ...          5.000000       2.000000       2.000000        6.000000   \n",
       "max      ...          7.000000       3.000000       2.000000        6.000000   \n",
       "\n",
       "       WOHNDAUER_2008       WOHNLAGE       ZABEOTYP  OST_WEST_KZ_O  \\\n",
       "count   247426.000000  247426.000000  247426.000000  247426.000000   \n",
       "mean         8.208422       4.774167       2.864186       0.021489   \n",
       "std          1.688802       2.167531       1.410104       0.145009   \n",
       "min          1.000000       0.000000       1.000000       0.000000   \n",
       "25%          9.000000       3.000000       1.000000       0.000000   \n",
       "50%          9.000000       4.000000       3.000000       0.000000   \n",
       "75%          9.000000       7.000000       4.000000       0.000000   \n",
       "max          9.000000       8.000000       6.000000       1.000000   \n",
       "\n",
       "       OST_WEST_KZ_W    labels  \n",
       "count  247426.000000  247426.0  \n",
       "mean        0.978511       2.0  \n",
       "std         0.145009       0.0  \n",
       "min         0.000000       2.0  \n",
       "25%         1.000000       2.0  \n",
       "50%         1.000000       2.0  \n",
       "75%         1.000000       2.0  \n",
       "max         1.000000       2.0  \n",
       "\n",
       "[8 rows x 184 columns]"
      ]
     },
     "execution_count": 37,
     "metadata": {},
     "output_type": "execute_result"
    }
   ],
   "source": [
    "cluster2.describe()"
   ]
  },
  {
   "cell_type": "code",
   "execution_count": 39,
   "metadata": {},
   "outputs": [
    {
     "data": {
      "text/html": [
       "<div>\n",
       "<style scoped>\n",
       "    .dataframe tbody tr th:only-of-type {\n",
       "        vertical-align: middle;\n",
       "    }\n",
       "\n",
       "    .dataframe tbody tr th {\n",
       "        vertical-align: top;\n",
       "    }\n",
       "\n",
       "    .dataframe thead th {\n",
       "        text-align: right;\n",
       "    }\n",
       "</style>\n",
       "<table border=\"1\" class=\"dataframe\">\n",
       "  <thead>\n",
       "    <tr style=\"text-align: right;\">\n",
       "      <th></th>\n",
       "      <th>ANZ_HAUSHALTE_AKTIV</th>\n",
       "      <th>ANZ_HH_TITEL</th>\n",
       "      <th>ANZ_PERSONEN</th>\n",
       "      <th>ANZ_TITEL</th>\n",
       "      <th>CAMEO_DEUG_2015</th>\n",
       "      <th>D19_GESAMT_DATUM</th>\n",
       "      <th>D19_GESAMT_OFFLINE_DATUM</th>\n",
       "      <th>D19_TELKO_DATUM</th>\n",
       "      <th>D19_TELKO_OFFLINE_DATUM</th>\n",
       "      <th>D19_TELKO_ONLINE_DATUM</th>\n",
       "      <th>...</th>\n",
       "      <th>SEMIO_TRADV</th>\n",
       "      <th>SHOPPER_TYP</th>\n",
       "      <th>VERS_TYP</th>\n",
       "      <th>W_KEIT_KIND_HH</th>\n",
       "      <th>WOHNDAUER_2008</th>\n",
       "      <th>WOHNLAGE</th>\n",
       "      <th>ZABEOTYP</th>\n",
       "      <th>OST_WEST_KZ_O</th>\n",
       "      <th>OST_WEST_KZ_W</th>\n",
       "      <th>labels</th>\n",
       "    </tr>\n",
       "  </thead>\n",
       "  <tbody>\n",
       "    <tr>\n",
       "      <th>count</th>\n",
       "      <td>14043.000000</td>\n",
       "      <td>14043.000000</td>\n",
       "      <td>14043.000000</td>\n",
       "      <td>14043.000000</td>\n",
       "      <td>14043.000000</td>\n",
       "      <td>14043.000000</td>\n",
       "      <td>14043.000000</td>\n",
       "      <td>14043.000000</td>\n",
       "      <td>14043.000000</td>\n",
       "      <td>14043.000000</td>\n",
       "      <td>...</td>\n",
       "      <td>14043.000000</td>\n",
       "      <td>14043.000000</td>\n",
       "      <td>14043.000000</td>\n",
       "      <td>14043.000000</td>\n",
       "      <td>14043.000000</td>\n",
       "      <td>14043.000000</td>\n",
       "      <td>14043.000000</td>\n",
       "      <td>14043.000000</td>\n",
       "      <td>14043.000000</td>\n",
       "      <td>14043.0</td>\n",
       "    </tr>\n",
       "    <tr>\n",
       "      <th>mean</th>\n",
       "      <td>25.921456</td>\n",
       "      <td>0.142847</td>\n",
       "      <td>1.210069</td>\n",
       "      <td>0.004130</td>\n",
       "      <td>7.428968</td>\n",
       "      <td>8.705761</td>\n",
       "      <td>9.608702</td>\n",
       "      <td>9.737805</td>\n",
       "      <td>9.943887</td>\n",
       "      <td>9.993947</td>\n",
       "      <td>...</td>\n",
       "      <td>3.692017</td>\n",
       "      <td>1.492060</td>\n",
       "      <td>1.486221</td>\n",
       "      <td>4.945240</td>\n",
       "      <td>7.826818</td>\n",
       "      <td>4.043509</td>\n",
       "      <td>3.765435</td>\n",
       "      <td>0.331411</td>\n",
       "      <td>0.668589</td>\n",
       "      <td>1.0</td>\n",
       "    </tr>\n",
       "    <tr>\n",
       "      <th>std</th>\n",
       "      <td>28.804893</td>\n",
       "      <td>0.589482</td>\n",
       "      <td>0.949377</td>\n",
       "      <td>0.070484</td>\n",
       "      <td>1.944573</td>\n",
       "      <td>2.421304</td>\n",
       "      <td>1.171603</td>\n",
       "      <td>0.936778</td>\n",
       "      <td>0.413917</td>\n",
       "      <td>0.127560</td>\n",
       "      <td>...</td>\n",
       "      <td>1.526320</td>\n",
       "      <td>1.064769</td>\n",
       "      <td>0.802365</td>\n",
       "      <td>1.671176</td>\n",
       "      <td>1.974608</td>\n",
       "      <td>1.633017</td>\n",
       "      <td>1.180822</td>\n",
       "      <td>0.470737</td>\n",
       "      <td>0.470737</td>\n",
       "      <td>0.0</td>\n",
       "    </tr>\n",
       "    <tr>\n",
       "      <th>min</th>\n",
       "      <td>0.000000</td>\n",
       "      <td>0.000000</td>\n",
       "      <td>0.000000</td>\n",
       "      <td>0.000000</td>\n",
       "      <td>1.000000</td>\n",
       "      <td>1.000000</td>\n",
       "      <td>1.000000</td>\n",
       "      <td>1.000000</td>\n",
       "      <td>1.000000</td>\n",
       "      <td>5.000000</td>\n",
       "      <td>...</td>\n",
       "      <td>1.000000</td>\n",
       "      <td>-1.000000</td>\n",
       "      <td>-1.000000</td>\n",
       "      <td>0.000000</td>\n",
       "      <td>1.000000</td>\n",
       "      <td>0.000000</td>\n",
       "      <td>1.000000</td>\n",
       "      <td>0.000000</td>\n",
       "      <td>0.000000</td>\n",
       "      <td>1.0</td>\n",
       "    </tr>\n",
       "    <tr>\n",
       "      <th>25%</th>\n",
       "      <td>9.000000</td>\n",
       "      <td>0.000000</td>\n",
       "      <td>1.000000</td>\n",
       "      <td>0.000000</td>\n",
       "      <td>7.000000</td>\n",
       "      <td>9.000000</td>\n",
       "      <td>10.000000</td>\n",
       "      <td>10.000000</td>\n",
       "      <td>10.000000</td>\n",
       "      <td>10.000000</td>\n",
       "      <td>...</td>\n",
       "      <td>3.000000</td>\n",
       "      <td>1.000000</td>\n",
       "      <td>1.000000</td>\n",
       "      <td>4.000000</td>\n",
       "      <td>8.000000</td>\n",
       "      <td>3.000000</td>\n",
       "      <td>3.000000</td>\n",
       "      <td>0.000000</td>\n",
       "      <td>0.000000</td>\n",
       "      <td>1.0</td>\n",
       "    </tr>\n",
       "    <tr>\n",
       "      <th>50%</th>\n",
       "      <td>19.000000</td>\n",
       "      <td>0.000000</td>\n",
       "      <td>1.000000</td>\n",
       "      <td>0.000000</td>\n",
       "      <td>8.000000</td>\n",
       "      <td>10.000000</td>\n",
       "      <td>10.000000</td>\n",
       "      <td>10.000000</td>\n",
       "      <td>10.000000</td>\n",
       "      <td>10.000000</td>\n",
       "      <td>...</td>\n",
       "      <td>4.000000</td>\n",
       "      <td>1.000000</td>\n",
       "      <td>2.000000</td>\n",
       "      <td>6.000000</td>\n",
       "      <td>9.000000</td>\n",
       "      <td>4.000000</td>\n",
       "      <td>3.000000</td>\n",
       "      <td>0.000000</td>\n",
       "      <td>1.000000</td>\n",
       "      <td>1.0</td>\n",
       "    </tr>\n",
       "    <tr>\n",
       "      <th>75%</th>\n",
       "      <td>33.000000</td>\n",
       "      <td>0.000000</td>\n",
       "      <td>1.000000</td>\n",
       "      <td>0.000000</td>\n",
       "      <td>9.000000</td>\n",
       "      <td>10.000000</td>\n",
       "      <td>10.000000</td>\n",
       "      <td>10.000000</td>\n",
       "      <td>10.000000</td>\n",
       "      <td>10.000000</td>\n",
       "      <td>...</td>\n",
       "      <td>5.000000</td>\n",
       "      <td>2.000000</td>\n",
       "      <td>2.000000</td>\n",
       "      <td>6.000000</td>\n",
       "      <td>9.000000</td>\n",
       "      <td>5.000000</td>\n",
       "      <td>4.000000</td>\n",
       "      <td>1.000000</td>\n",
       "      <td>1.000000</td>\n",
       "      <td>1.0</td>\n",
       "    </tr>\n",
       "    <tr>\n",
       "      <th>max</th>\n",
       "      <td>328.000000</td>\n",
       "      <td>15.000000</td>\n",
       "      <td>45.000000</td>\n",
       "      <td>3.000000</td>\n",
       "      <td>9.000000</td>\n",
       "      <td>10.000000</td>\n",
       "      <td>10.000000</td>\n",
       "      <td>10.000000</td>\n",
       "      <td>10.000000</td>\n",
       "      <td>10.000000</td>\n",
       "      <td>...</td>\n",
       "      <td>7.000000</td>\n",
       "      <td>3.000000</td>\n",
       "      <td>2.000000</td>\n",
       "      <td>6.000000</td>\n",
       "      <td>9.000000</td>\n",
       "      <td>8.000000</td>\n",
       "      <td>6.000000</td>\n",
       "      <td>1.000000</td>\n",
       "      <td>1.000000</td>\n",
       "      <td>1.0</td>\n",
       "    </tr>\n",
       "  </tbody>\n",
       "</table>\n",
       "<p>8 rows × 184 columns</p>\n",
       "</div>"
      ],
      "text/plain": [
       "       ANZ_HAUSHALTE_AKTIV  ANZ_HH_TITEL  ANZ_PERSONEN     ANZ_TITEL  \\\n",
       "count         14043.000000  14043.000000  14043.000000  14043.000000   \n",
       "mean             25.921456      0.142847      1.210069      0.004130   \n",
       "std              28.804893      0.589482      0.949377      0.070484   \n",
       "min               0.000000      0.000000      0.000000      0.000000   \n",
       "25%               9.000000      0.000000      1.000000      0.000000   \n",
       "50%              19.000000      0.000000      1.000000      0.000000   \n",
       "75%              33.000000      0.000000      1.000000      0.000000   \n",
       "max             328.000000     15.000000     45.000000      3.000000   \n",
       "\n",
       "       CAMEO_DEUG_2015  D19_GESAMT_DATUM  D19_GESAMT_OFFLINE_DATUM  \\\n",
       "count     14043.000000      14043.000000              14043.000000   \n",
       "mean          7.428968          8.705761                  9.608702   \n",
       "std           1.944573          2.421304                  1.171603   \n",
       "min           1.000000          1.000000                  1.000000   \n",
       "25%           7.000000          9.000000                 10.000000   \n",
       "50%           8.000000         10.000000                 10.000000   \n",
       "75%           9.000000         10.000000                 10.000000   \n",
       "max           9.000000         10.000000                 10.000000   \n",
       "\n",
       "       D19_TELKO_DATUM  D19_TELKO_OFFLINE_DATUM  D19_TELKO_ONLINE_DATUM  \\\n",
       "count     14043.000000             14043.000000            14043.000000   \n",
       "mean          9.737805                 9.943887                9.993947   \n",
       "std           0.936778                 0.413917                0.127560   \n",
       "min           1.000000                 1.000000                5.000000   \n",
       "25%          10.000000                10.000000               10.000000   \n",
       "50%          10.000000                10.000000               10.000000   \n",
       "75%          10.000000                10.000000               10.000000   \n",
       "max          10.000000                10.000000               10.000000   \n",
       "\n",
       "        ...      SEMIO_TRADV   SHOPPER_TYP      VERS_TYP  W_KEIT_KIND_HH  \\\n",
       "count   ...     14043.000000  14043.000000  14043.000000    14043.000000   \n",
       "mean    ...         3.692017      1.492060      1.486221        4.945240   \n",
       "std     ...         1.526320      1.064769      0.802365        1.671176   \n",
       "min     ...         1.000000     -1.000000     -1.000000        0.000000   \n",
       "25%     ...         3.000000      1.000000      1.000000        4.000000   \n",
       "50%     ...         4.000000      1.000000      2.000000        6.000000   \n",
       "75%     ...         5.000000      2.000000      2.000000        6.000000   \n",
       "max     ...         7.000000      3.000000      2.000000        6.000000   \n",
       "\n",
       "       WOHNDAUER_2008      WOHNLAGE      ZABEOTYP  OST_WEST_KZ_O  \\\n",
       "count    14043.000000  14043.000000  14043.000000   14043.000000   \n",
       "mean         7.826818      4.043509      3.765435       0.331411   \n",
       "std          1.974608      1.633017      1.180822       0.470737   \n",
       "min          1.000000      0.000000      1.000000       0.000000   \n",
       "25%          8.000000      3.000000      3.000000       0.000000   \n",
       "50%          9.000000      4.000000      3.000000       0.000000   \n",
       "75%          9.000000      5.000000      4.000000       1.000000   \n",
       "max          9.000000      8.000000      6.000000       1.000000   \n",
       "\n",
       "       OST_WEST_KZ_W   labels  \n",
       "count   14043.000000  14043.0  \n",
       "mean        0.668589      1.0  \n",
       "std         0.470737      0.0  \n",
       "min         0.000000      1.0  \n",
       "25%         0.000000      1.0  \n",
       "50%         1.000000      1.0  \n",
       "75%         1.000000      1.0  \n",
       "max         1.000000      1.0  \n",
       "\n",
       "[8 rows x 184 columns]"
      ]
     },
     "execution_count": 39,
     "metadata": {},
     "output_type": "execute_result"
    }
   ],
   "source": [
    "cluster1.describe()"
   ]
  },
  {
   "cell_type": "markdown",
   "metadata": {},
   "source": [
    "There is no possible way to compare these clusters."
   ]
  },
  {
   "cell_type": "code",
   "execution_count": null,
   "metadata": {},
   "outputs": [],
   "source": []
  },
  {
   "cell_type": "markdown",
   "metadata": {},
   "source": [
    "## Part 2: Supervised Learning Model\n",
    "\n",
    "Now that we've found which parts of the population are more likely to be customers of the mail-order company, it's time to build a prediction model. Each of the rows in the \"MAILOUT\" data files represents an individual that was targeted for a mailout campaign. Ideally, we should be able to use the demographic information from each individual to decide whether or not it will be worth it to include that person in the campaign.\n",
    "\n",
    "The \"MAILOUT\" data has been split into two approximately equal parts, each with almost 43 000 data rows. In this part, you can verify your model with the \"TRAIN\" partition, which includes a column, \"RESPONSE\", that states whether or not a person became a customer of the company following the campaign. In the next part, you'll need to create predictions on the \"TEST\" partition, where the \"RESPONSE\" column has been withheld."
   ]
  },
  {
   "cell_type": "code",
   "execution_count": 86,
   "metadata": {},
   "outputs": [],
   "source": [
    "import pandas as pd\n",
    "import numpy as np\n",
    "import matplotlib.pyplot as plt\n",
    "import seaborn as sns\n",
    "from sklearn.model_selection import train_test_split\n",
    "%matplotlib inline"
   ]
  },
  {
   "cell_type": "code",
   "execution_count": 87,
   "metadata": {},
   "outputs": [
    {
     "name": "stderr",
     "output_type": "stream",
     "text": [
      "/opt/conda/lib/python3.6/site-packages/IPython/core/interactiveshell.py:2785: DtypeWarning: Columns (18,19) have mixed types. Specify dtype option on import or set low_memory=False.\n",
      "  interactivity=interactivity, compiler=compiler, result=result)\n"
     ]
    }
   ],
   "source": [
    "train_dataset = pd.read_csv('../../data/Term2/capstone/arvato_data/Udacity_MAILOUT_052018_TRAIN.csv',sep=';')"
   ]
  },
  {
   "cell_type": "code",
   "execution_count": 88,
   "metadata": {},
   "outputs": [],
   "source": [
    "train_dataset.drop(['CAMEO_DEU_2015', 'CAMEO_DEUG_2015', 'CAMEO_INTL_2015', 'D19_LETZTER_KAUF_BRANCHE', 'EINGEFUEGT_AM','OST_WEST_KZ'],axis=1,inplace=True)"
   ]
  },
  {
   "cell_type": "code",
   "execution_count": 89,
   "metadata": {},
   "outputs": [],
   "source": [
    "X = train_dataset.drop('RESPONSE',axis=1)\n",
    "y = train_dataset['RESPONSE']"
   ]
  },
  {
   "cell_type": "code",
   "execution_count": 90,
   "metadata": {},
   "outputs": [],
   "source": [
    "X_train,X_test,y_train,y_test = train_test_split(X,y,random_state=42,test_size=0.3)"
   ]
  },
  {
   "cell_type": "code",
   "execution_count": 91,
   "metadata": {},
   "outputs": [],
   "source": [
    "X_train,X_val,y_train,y_val = train_test_split(X_train,y_train,random_state=42,test_size=0.3)"
   ]
  },
  {
   "cell_type": "code",
   "execution_count": 92,
   "metadata": {},
   "outputs": [],
   "source": [
    "import xgboost\n",
    "from xgboost import XGBRegressor"
   ]
  },
  {
   "cell_type": "code",
   "execution_count": 93,
   "metadata": {},
   "outputs": [],
   "source": [
    "model = XGBRegressor(base_score=0.5, booster='gbtree', colsample_bylevel=1,\n",
    "       colsample_bytree=0.7, eval_metric='auc', gamma=1.0,\n",
    "       learning_rate=0.01, max_delta_step=0, max_depth=7,\n",
    "       min_child_weight=1, missing=None, n_estimators=250, n_jobs=-1,\n",
    "       nthread=None, objective='binary:logistic', random_state=42,\n",
    "       reg_alpha=1e-07, reg_lambda=1, scale_pos_weight=1, seed=None,\n",
    "       silent=1, subsample=0.5)"
   ]
  },
  {
   "cell_type": "code",
   "execution_count": 94,
   "metadata": {},
   "outputs": [
    {
     "data": {
      "text/plain": [
       "XGBRegressor(base_score=0.5, booster='gbtree', colsample_bylevel=1,\n",
       "       colsample_bynode=1, colsample_bytree=0.7, eval_metric='auc',\n",
       "       gamma=1.0, gpu_id=-1, importance_type='gain',\n",
       "       interaction_constraints=None, learning_rate=0.01, max_delta_step=0,\n",
       "       max_depth=7, min_child_weight=1, missing=nan,\n",
       "       monotone_constraints=None, n_estimators=250, n_jobs=-1, nthread=-1,\n",
       "       num_parallel_tree=1, objective='binary:logistic', random_state=42,\n",
       "       reg_alpha=1e-07, reg_lambda=1, scale_pos_weight=1, seed=42,\n",
       "       silent=1, subsample=0.5, tree_method=None,\n",
       "       validate_parameters=False, verbosity=None)"
      ]
     },
     "execution_count": 94,
     "metadata": {},
     "output_type": "execute_result"
    }
   ],
   "source": [
    "model.fit(X_train,y_train)"
   ]
  },
  {
   "cell_type": "code",
   "execution_count": 95,
   "metadata": {},
   "outputs": [],
   "source": [
    "from sklearn.metrics import roc_auc_score\n",
    "pred_train = model.predict(X_train)\n",
    "pred_test = model.predict(X_test)\n",
    "pred_val = model.predict(X_val)"
   ]
  },
  {
   "cell_type": "code",
   "execution_count": 96,
   "metadata": {},
   "outputs": [
    {
     "data": {
      "text/plain": [
       "0.92444422494426925"
      ]
     },
     "execution_count": 96,
     "metadata": {},
     "output_type": "execute_result"
    }
   ],
   "source": [
    "roc_auc_score(y_train,pred_train)"
   ]
  },
  {
   "cell_type": "code",
   "execution_count": 97,
   "metadata": {},
   "outputs": [
    {
     "data": {
      "text/plain": [
       "0.77481776819529258"
      ]
     },
     "execution_count": 97,
     "metadata": {},
     "output_type": "execute_result"
    }
   ],
   "source": [
    "roc_auc_score(y_test,pred_test)"
   ]
  },
  {
   "cell_type": "code",
   "execution_count": 98,
   "metadata": {},
   "outputs": [
    {
     "data": {
      "text/plain": [
       "0.78532094146488718"
      ]
     },
     "execution_count": 98,
     "metadata": {},
     "output_type": "execute_result"
    }
   ],
   "source": [
    "roc_auc_score(y_val,pred_val)"
   ]
  },
  {
   "cell_type": "code",
   "execution_count": 99,
   "metadata": {},
   "outputs": [
    {
     "data": {
      "image/png": "[encoded data removed]",
      "text/plain": [
       "<matplotlib.figure.Figure at 0x7f4035381c88>"
      ]
     },
     "metadata": {
      "needs_background": "light"
     },
     "output_type": "display_data"
    }
   ],
   "source": [
    "# Calculate feature importances\n",
    "importances = model.feature_importances_\n",
    "\n",
    "# Sort feature importances in descending order\n",
    "indices = np.argsort(importances)[::-1][:5]\n",
    "\n",
    "# Rearrange feature names so they match the sorted feature importances\n",
    "names = [X.columns[i] for i in indices][:5]\n",
    "\n",
    "\n",
    "# Create plot\n",
    "plt.figure()\n",
    "\n",
    "# Create plot title\n",
    "plt.title(\"Feature Importance\")\n",
    "\n",
    "# Add bars\n",
    "plt.bar(range(5), importances[indices])\n",
    "\n",
    "# Add feature names as x-axis labels\n",
    "plt.xticks(range(5) ,names, rotation=90)\n",
    "\n",
    "# Show plot\n",
    "plt.show()"
   ]
  },
  {
   "cell_type": "markdown",
   "metadata": {},
   "source": [
    "## Part 3: Kaggle Competition"
   ]
  },
  {
   "cell_type": "code",
   "execution_count": 93,
   "metadata": {},
   "outputs": [
    {
     "name": "stderr",
     "output_type": "stream",
     "text": [
      "/opt/conda/lib/python3.6/site-packages/IPython/core/interactiveshell.py:2785: DtypeWarning: Columns (18,19) have mixed types. Specify dtype option on import or set low_memory=False.\n",
      "  interactivity=interactivity, compiler=compiler, result=result)\n"
     ]
    }
   ],
   "source": [
    "testdata = pd.read_csv('../../data/Term2/capstone/arvato_data/Udacity_MAILOUT_052018_TEST.csv', sep=';')"
   ]
  },
  {
   "cell_type": "code",
   "execution_count": 94,
   "metadata": {},
   "outputs": [],
   "source": [
    "testdata.drop(['CAMEO_DEU_2015', 'CAMEO_DEUG_2015', 'CAMEO_INTL_2015', 'D19_LETZTER_KAUF_BRANCHE', 'EINGEFUEGT_AM','OST_WEST_KZ'],axis=1,inplace=True)"
   ]
  },
  {
   "cell_type": "code",
   "execution_count": 95,
   "metadata": {},
   "outputs": [],
   "source": [
    "testpred = model.predict(testdata)"
   ]
  },
  {
   "cell_type": "code",
   "execution_count": 96,
   "metadata": {},
   "outputs": [],
   "source": [
    "kaggle_sub = pd.DataFrame(index=testdata['LNR'].astype('int32'), data=testpred)\n",
    "kaggle_sub.rename(columns={0: \"RESPONSE\"}, inplace=True)\n",
    "kaggle_sub.to_csv('kagglesubmission.csv')"
   ]
  },
  {
   "cell_type": "code",
   "execution_count": null,
   "metadata": {},
   "outputs": [],
   "source": []
  },
  {
   "cell_type": "code",
   "execution_count": null,
   "metadata": {},
   "outputs": [],
   "source": []
  },
  {
   "cell_type": "code",
   "execution_count": null,
   "metadata": {},
   "outputs": [],
   "source": []
  }
 ],
 "metadata": {
  "kernelspec": {
   "display_name": "Python 3",
   "language": "python",
   "name": "python3"
  },
  "language_info": {
   "codemirror_mode": {
    "name": "ipython",
    "version": 3
   },
   "file_extension": ".py",
   "mimetype": "text/x-python",
   "name": "python",
   "nbconvert_exporter": "python",
   "pygments_lexer": "ipython3",
   "version": "3.8.3"
  }
 },
 "nbformat": 4,
 "nbformat_minor": 2
}
